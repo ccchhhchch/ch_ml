{
 "cells": [
  {
   "cell_type": "markdown",
   "id": "705d8dc2",
   "metadata": {
    "papermill": {
     "duration": 0.05072,
     "end_time": "2021-10-28T19:50:57.153094",
     "exception": false,
     "start_time": "2021-10-28T19:50:57.102374",
     "status": "completed"
    },
    "tags": []
   },
   "source": [
    "## Машинное обучение 1, ПМИ ФКН ВШЭ\n",
    "\n",
    "## Практическое домашнее задание 1\n",
    "\n",
    "### Общая информация\n",
    "\n",
    "Дата выдачи: 11.09.2020\n",
    "\n",
    "Мягкий дедлайн: 04:59MSK 21.09.2020 (но лучше сдайте пораньше и успейте выспаться)\n",
    "\n",
    "Жесткий дедлайн: 23:59MSK 24.09.2020"
   ]
  },
  {
   "cell_type": "markdown",
   "id": "cde484c4",
   "metadata": {
    "papermill": {
     "duration": 0.049334,
     "end_time": "2021-10-28T19:50:57.252852",
     "exception": false,
     "start_time": "2021-10-28T19:50:57.203518",
     "status": "completed"
    },
    "tags": []
   },
   "source": [
    "### О задании\n",
    "\n",
    "Задание состоит из двух разделов, посвященных работе с табличными данными с помощью библиотеки pandas и визуализации с помощью matplotlib. В первом разделе вам предстоит выполнить базовые задания с помощью вышеуказанных библиотек, а во втором распределить студентов по курсам. Баллы даются за выполнение отдельных пунктов. Задачи в рамках одного раздела рекомендуется решать в том порядке, в котором они даны в задании.\n",
    "\n",
    "Задание направлено на освоение jupyter notebook (будет использоваться в дальнейших заданиях), библиотек pandas и matplotlib.\n",
    "\n",
    "### Оценивание и штрафы\n",
    "Каждая из задач имеет определенную «стоимость» (указана в скобках около задачи). Максимально допустимая оценка за работу — 10 баллов.\n",
    "\n",
    "Сдавать задание после жёсткого дедлайна нельзя. При выставлении неполного балла за задание в связи с наличием ошибок на усмотрение проверяющего предусмотрена возможность исправить работу на указанных в ответном письме условиях.\n",
    "\n",
    "Задание выполняется самостоятельно. «Похожие» решения считаются плагиатом и все задействованные студенты (в том числе те, у кого списали) не могут получить за него больше 0 баллов (подробнее о плагиате см. на странице курса). Если вы нашли решение какого-то из заданий (или его часть) в открытом источнике, необходимо указать ссылку на этот источник (скорее всего вы будете не единственным, кто это нашел, поэтому чтобы исключить подозрение в плагиате, необходима ссылка на источник).\n",
    "\n",
    "### Формат сдачи\n",
    "Задания сдаются через систему Anytask. Инвайт можно получить у семинариста или ассистента. Присылать необходимо ноутбук с выполненным заданием. Сам ноутбук называйте в формате homework-practice-01-pandas-Username.ipynb, где Username — ваша фамилия.\n",
    "\n",
    "Для удобства проверки самостоятельно посчитайте свою максимальную оценку (исходя из набора решенных задач) и укажите ниже.\n",
    "\n",
    "Оценка: xx."
   ]
  },
  {
   "cell_type": "markdown",
   "id": "6cba87be",
   "metadata": {
    "papermill": {
     "duration": 0.04947,
     "end_time": "2021-10-28T19:50:57.351540",
     "exception": false,
     "start_time": "2021-10-28T19:50:57.302070",
     "status": "completed"
    },
    "tags": []
   },
   "source": [
    "## 0. Введение"
   ]
  },
  {
   "cell_type": "markdown",
   "id": "ccfb7086",
   "metadata": {
    "papermill": {
     "duration": 0.048981,
     "end_time": "2021-10-28T19:50:57.449640",
     "exception": false,
     "start_time": "2021-10-28T19:50:57.400659",
     "status": "completed"
    },
    "tags": []
   },
   "source": [
    "Сейчас мы находимся в jupyter-ноутбуке (или ipython-ноутбуке). Это удобная среда для написания кода, проведения экспериментов, изучения данных, построения визуализаций и других нужд, не связанных с написанием production-кода. \n",
    "\n",
    "Ноутбук состоит из ячеек, каждая из которых может быть либо ячейкой с кодом, либо ячейкой с текстом размеченным и неразмеченным. Текст поддерживает markdown-разметку и формулы в Latex.\n",
    "\n",
    "Для работы с содержимым ячейки используется *режим редактирования* (*Edit mode*, включается нажатием клавиши **Enter** после выбора ячейки), а для навигации между ячейками искользуется *командный режим* (*Command mode*, включается нажатием клавиши **Esc**). Тип ячейки можно задать в командном режиме либо с помощью горячих клавиш (**y** to code, **m** to markdown, **r** to edit raw text), либо в меню *Cell -> Cell type*. \n",
    "\n",
    "После заполнения ячейки нужно нажать *Shift + Enter*, эта команда обработает содержимое ячейки: проинтерпретирует код или сверстает размеченный текст."
   ]
  },
  {
   "cell_type": "code",
   "execution_count": 1,
   "id": "d0538629",
   "metadata": {
    "execution": {
     "iopub.execute_input": "2021-10-28T19:50:57.558391Z",
     "iopub.status.busy": "2021-10-28T19:50:57.557356Z",
     "iopub.status.idle": "2021-10-28T19:50:57.567621Z",
     "shell.execute_reply": "2021-10-28T19:50:57.568128Z",
     "shell.execute_reply.started": "2021-10-27T20:21:11.680253Z"
    },
    "papermill": {
     "duration": 0.069753,
     "end_time": "2021-10-28T19:50:57.568460",
     "exception": false,
     "start_time": "2021-10-28T19:50:57.498707",
     "status": "completed"
    },
    "tags": []
   },
   "outputs": [
    {
     "data": {
      "text/plain": [
       "4"
      ]
     },
     "execution_count": 1,
     "metadata": {},
     "output_type": "execute_result"
    }
   ],
   "source": [
    "# ячейка с кодом, при выполнении которой появится output\n",
    "2 + 2"
   ]
  },
  {
   "cell_type": "markdown",
   "id": "a9c222ac",
   "metadata": {
    "papermill": {
     "duration": 0.049232,
     "end_time": "2021-10-28T19:50:57.728950",
     "exception": false,
     "start_time": "2021-10-28T19:50:57.679718",
     "status": "completed"
    },
    "tags": []
   },
   "source": [
    "Ячейка с неразмеченыным текстом."
   ]
  },
  {
   "cell_type": "markdown",
   "id": "03867014",
   "metadata": {
    "papermill": {
     "duration": 0.049608,
     "end_time": "2021-10-28T19:50:57.828921",
     "exception": false,
     "start_time": "2021-10-28T19:50:57.779313",
     "status": "completed"
    },
    "tags": []
   },
   "source": [
    "Попробуйте создать свои ячейки, написать какой-нибудь код и текст какой-нибудь формулой."
   ]
  },
  {
   "cell_type": "code",
   "execution_count": 2,
   "id": "9c9c13a9",
   "metadata": {
    "execution": {
     "iopub.execute_input": "2021-10-28T19:50:57.934312Z",
     "iopub.status.busy": "2021-10-28T19:50:57.931879Z",
     "iopub.status.idle": "2021-10-28T19:50:57.937247Z",
     "shell.execute_reply": "2021-10-28T19:50:57.937700Z",
     "shell.execute_reply.started": "2021-10-27T20:26:12.427264Z"
    },
    "papermill": {
     "duration": 0.058603,
     "end_time": "2021-10-28T19:50:57.937878",
     "exception": false,
     "start_time": "2021-10-28T19:50:57.879275",
     "status": "completed"
    },
    "tags": []
   },
   "outputs": [
    {
     "name": "stdout",
     "output_type": "stream",
     "text": [
      "14\n"
     ]
    }
   ],
   "source": [
    "a = 5\n",
    "b = 9\n",
    "print(a + b)"
   ]
  },
  {
   "cell_type": "markdown",
   "id": "2dc9792a",
   "metadata": {
    "papermill": {
     "duration": 0.051848,
     "end_time": "2021-10-28T19:50:58.042764",
     "exception": false,
     "start_time": "2021-10-28T19:50:57.990916",
     "status": "completed"
    },
    "tags": []
   },
   "source": [
    "[Здесь](https://athena.brynmawr.edu/jupyter/hub/dblank/public/Jupyter%20Notebook%20Users%20Manual.ipynb) находится <s>не</s>большая заметка о используемом языке разметки Markdown. Он позволяет:\n",
    "\n",
    "0. Составлять упорядоченные списки\n",
    "1. Выделять *текст* <s>при</s> **необходимости**\n",
    "2. Добавлять [ссылки](http://imgs.xkcd.com/comics/the_universal_label.png)\n",
    "\n",
    "\n",
    "* Составлять неупорядоченные списки\n",
    "\n",
    "Делать вставки с помощью LaTex:\n",
    "    \n",
    "$\n",
    "\\left\\{\n",
    "\\begin{array}{ll}\n",
    "x = 16 \\sin^3 (t) \\\\ \n",
    "y = 13 \\cos (t) - 5 \\cos (2t) - 2 \\cos (3t) - \\cos (4t) \\\\\n",
    "t \\in [0, 2 \\pi]\n",
    "\\end{array}\n",
    "\\right.$"
   ]
  },
  {
   "cell_type": "markdown",
   "id": "1f9671c7",
   "metadata": {
    "papermill": {
     "duration": 0.050197,
     "end_time": "2021-10-28T19:50:58.143325",
     "exception": false,
     "start_time": "2021-10-28T19:50:58.093128",
     "status": "completed"
    },
    "tags": []
   },
   "source": [
    "А ещё можно вставлять картинки, или гифки, или что захотите:\n",
    "\n",
    "<img src=\"https://media1.tenor.com/images/9b8fbe9214504bcf6c60fe4e4f7e114e/tenor.gif?itemid=5416416\" style=\"width: 400px\">"
   ]
  },
  {
   "cell_type": "markdown",
   "id": "2c15cf7c",
   "metadata": {
    "papermill": {
     "duration": 0.049996,
     "end_time": "2021-10-28T19:50:58.244580",
     "exception": false,
     "start_time": "2021-10-28T19:50:58.194584",
     "status": "completed"
    },
    "tags": []
   },
   "source": [
    "### Google Colab"
   ]
  },
  {
   "cell_type": "markdown",
   "id": "4cd39c5f",
   "metadata": {
    "papermill": {
     "duration": 0.049795,
     "end_time": "2021-10-28T19:50:58.344618",
     "exception": false,
     "start_time": "2021-10-28T19:50:58.294823",
     "status": "completed"
    },
    "tags": []
   },
   "source": [
    "Что за колаб? \n",
    "\n",
    "**Google Colab (Colaboratory)** это **Jupyter Notebook + Cloud + Google Drive.**\n",
    "\n",
    "Компания Google предоставляет возможность бесплатно запускать ноутбуки (предварительно загрузив их на свой гугл-диск) прямо в облаке. При этом вам не требуется установка никаких пакетов на свою машину, а работать можно прямиком из браузера. Вот ссылка:"
   ]
  },
  {
   "cell_type": "markdown",
   "id": "3a2804fc",
   "metadata": {
    "papermill": {
     "duration": 0.050804,
     "end_time": "2021-10-28T19:50:58.445612",
     "exception": false,
     "start_time": "2021-10-28T19:50:58.394808",
     "status": "completed"
    },
    "tags": []
   },
   "source": [
    "https://colab.research.google.com"
   ]
  },
  {
   "cell_type": "markdown",
   "id": "e4d07f00",
   "metadata": {
    "papermill": {
     "duration": 0.050381,
     "end_time": "2021-10-28T19:50:58.546467",
     "exception": false,
     "start_time": "2021-10-28T19:50:58.496086",
     "status": "completed"
    },
    "tags": []
   },
   "source": [
    "При использовании вы увидете много сходств с jupyter ноутбуком. Одним из преимуществ является доступность GPU, соответствующую опцию можно активировать в настройках сервиса. При желании вы сможете найти в интернете много туториалов по использованию или разобраться самостоятельно =)"
   ]
  },
  {
   "cell_type": "markdown",
   "id": "82a43e04",
   "metadata": {
    "papermill": {
     "duration": 0.050035,
     "end_time": "2021-10-28T19:50:58.646768",
     "exception": false,
     "start_time": "2021-10-28T19:50:58.596733",
     "status": "completed"
    },
    "tags": []
   },
   "source": [
    "## 1. Табличные данные и Pandas"
   ]
  },
  {
   "cell_type": "markdown",
   "id": "2f950af7",
   "metadata": {
    "papermill": {
     "duration": 0.049863,
     "end_time": "2021-10-28T19:50:58.746828",
     "exception": false,
     "start_time": "2021-10-28T19:50:58.696965",
     "status": "completed"
    },
    "tags": []
   },
   "source": [
    "Pandas — удобная библиотека для работы с табличными данными в Python, если данных не слишком много и они помещаются в оперативную память вашего компьютера. Несмотря на неэффективность реализации и некоторые проблемы, библиотека стала стандартом в анализе данных.\n",
    "\n",
    "Основной объект в pandas — это DataFrame, представляющий собой таблицу с именованными колонками различных типов, индексом (может быть многоуровневым). DataFrame можно создавать, считывая таблицу из файла или задавая вручную из других объектов.\n",
    "\n",
    "В этой части потребуется выполнить несколько небольших заданий. Можно пойти двумя путями: сначала изучить материалы, а потом приступить к заданиям, или же разбираться \"по ходу\". Выбирайте сами.\n",
    "\n",
    "Материалы:\n",
    "1. [Pandas за 10 минут из официального руководства](http://pandas.pydata.org/pandas-docs/stable/10min.html)\n",
    "2. [Документация](http://pandas.pydata.org/pandas-docs/stable/index.html) (стоит обращаться, если не понятно, как вызывать конкретный метод)\n",
    "3. [Примеры использования функционала](http://nbviewer.jupyter.org/github/justmarkham/pandas-videos/blob/master/pandas.ipynb)\n",
    "\n",
    "Многие из заданий можно выполнить несколькими способами. Не существуют единственно верного, но попробуйте максимально задействовать арсенал pandas и ориентируйтесь на простоту и понятность вашего кода. Мы не будем подсказывать, что нужно использовать для решения конкретной задачи, попробуйте находить необходимый функционал сами (название метода чаще всего очевидно). В помощь вам документация, поиск и stackoverflow."
   ]
  },
  {
   "cell_type": "code",
   "execution_count": 3,
   "id": "3591d249",
   "metadata": {
    "execution": {
     "iopub.execute_input": "2021-10-28T19:50:58.851910Z",
     "iopub.status.busy": "2021-10-28T19:50:58.851280Z",
     "iopub.status.idle": "2021-10-28T19:50:58.860119Z",
     "shell.execute_reply": "2021-10-28T19:50:58.860833Z",
     "shell.execute_reply.started": "2021-10-28T19:48:09.429623Z"
    },
    "papermill": {
     "duration": 0.063281,
     "end_time": "2021-10-28T19:50:58.861097",
     "exception": false,
     "start_time": "2021-10-28T19:50:58.797816",
     "status": "completed"
    },
    "tags": []
   },
   "outputs": [
    {
     "name": "stdout",
     "output_type": "stream",
     "text": [
      "Populating the interactive namespace from numpy and matplotlib\n"
     ]
    }
   ],
   "source": [
    "%pylab inline  \n",
    "import pandas as pd"
   ]
  },
  {
   "cell_type": "markdown",
   "id": "d3b4b677",
   "metadata": {
    "papermill": {
     "duration": 0.0513,
     "end_time": "2021-10-28T19:50:58.965230",
     "exception": false,
     "start_time": "2021-10-28T19:50:58.913930",
     "status": "completed"
    },
    "tags": []
   },
   "source": [
    "Скачаем данные:"
   ]
  },
  {
   "cell_type": "code",
   "execution_count": 4,
   "id": "cb4250e7",
   "metadata": {
    "execution": {
     "iopub.execute_input": "2021-10-28T19:50:59.072624Z",
     "iopub.status.busy": "2021-10-28T19:50:59.071895Z",
     "iopub.status.idle": "2021-10-28T19:50:59.075441Z",
     "shell.execute_reply": "2021-10-28T19:50:59.076065Z",
     "shell.execute_reply.started": "2021-10-27T20:35:20.405621Z"
    },
    "papermill": {
     "duration": 0.058952,
     "end_time": "2021-10-28T19:50:59.076310",
     "exception": false,
     "start_time": "2021-10-28T19:50:59.017358",
     "status": "completed"
    },
    "tags": []
   },
   "outputs": [],
   "source": [
    "#!wget  -O 'end_seminar.xlsx' -q 'https://www.dropbox.com/s/f4rm8sjc3v99p0m/_end_seminar.xlsx?dl=0'"
   ]
  },
  {
   "cell_type": "markdown",
   "id": "86a2ee12",
   "metadata": {
    "papermill": {
     "duration": 0.050996,
     "end_time": "2021-10-28T19:50:59.178016",
     "exception": false,
     "start_time": "2021-10-28T19:50:59.127020",
     "status": "completed"
    },
    "tags": []
   },
   "source": [
    "Для пользователей Windows: скачайте файл самостоятельно и поместите его в папку с тетрадкой. Или попробуйте один из следующих вариантов:"
   ]
  },
  {
   "cell_type": "code",
   "execution_count": 5,
   "id": "3893efdf",
   "metadata": {
    "execution": {
     "iopub.execute_input": "2021-10-28T19:50:59.287567Z",
     "iopub.status.busy": "2021-10-28T19:50:59.286887Z",
     "iopub.status.idle": "2021-10-28T19:51:10.359602Z",
     "shell.execute_reply": "2021-10-28T19:51:10.358591Z",
     "shell.execute_reply.started": "2021-10-28T19:48:14.698808Z"
    },
    "papermill": {
     "duration": 11.127802,
     "end_time": "2021-10-28T19:51:10.359755",
     "exception": false,
     "start_time": "2021-10-28T19:50:59.231953",
     "status": "completed"
    },
    "tags": []
   },
   "outputs": [
    {
     "name": "stdout",
     "output_type": "stream",
     "text": [
      "Collecting openpyxl\r\n",
      "  Downloading openpyxl-3.0.9-py2.py3-none-any.whl (242 kB)\r\n",
      "\u001b[K     |████████████████████████████████| 242 kB 4.4 MB/s \r\n",
      "\u001b[?25hCollecting et-xmlfile\r\n",
      "  Downloading et_xmlfile-1.1.0-py3-none-any.whl (4.7 kB)\r\n",
      "Installing collected packages: et-xmlfile, openpyxl\r\n",
      "Successfully installed et-xmlfile-1.1.0 openpyxl-3.0.9\r\n",
      "\u001b[33mWARNING: Running pip as the 'root' user can result in broken permissions and conflicting behaviour with the system package manager. It is recommended to use a virtual environment instead: https://pip.pypa.io/warnings/venv\u001b[0m\r\n"
     ]
    }
   ],
   "source": [
    "!pip install openpyxl"
   ]
  },
  {
   "cell_type": "code",
   "execution_count": 6,
   "id": "fbf80186",
   "metadata": {
    "execution": {
     "iopub.execute_input": "2021-10-28T19:51:10.477944Z",
     "iopub.status.busy": "2021-10-28T19:51:10.477196Z",
     "iopub.status.idle": "2021-10-28T19:51:21.307092Z",
     "shell.execute_reply": "2021-10-28T19:51:21.306494Z",
     "shell.execute_reply.started": "2021-10-27T20:59:57.309971Z"
    },
    "papermill": {
     "duration": 10.893461,
     "end_time": "2021-10-28T19:51:21.307250",
     "exception": false,
     "start_time": "2021-10-28T19:51:10.413789",
     "status": "completed"
    },
    "tags": []
   },
   "outputs": [
    {
     "name": "stdout",
     "output_type": "stream",
     "text": [
      "Collecting wget\r\n",
      "  Downloading wget-3.2.zip (10 kB)\r\n",
      "Building wheels for collected packages: wget\r\n",
      "  Building wheel for wget (setup.py) ... \u001b[?25l-\b \b\\\b \bdone\r\n",
      "\u001b[?25h  Created wheel for wget: filename=wget-3.2-py3-none-any.whl size=9672 sha256=51dfd52964a23263e2fa5231804193a6f297b60658abc77b121f0acffcb8380a\r\n",
      "  Stored in directory: /root/.cache/pip/wheels/a1/b6/7c/0e63e34eb06634181c63adacca38b79ff8f35c37e3c13e3c02\r\n",
      "Successfully built wget\r\n",
      "Installing collected packages: wget\r\n",
      "Successfully installed wget-3.2\r\n",
      "\u001b[33mWARNING: Running pip as the 'root' user can result in broken permissions and conflicting behaviour with the system package manager. It is recommended to use a virtual environment instead: https://pip.pypa.io/warnings/venv\u001b[0m\r\n"
     ]
    }
   ],
   "source": [
    "!pip install wget\n",
    "import wget \n",
    "# wget.download('https://dropbox.com/s/f4rm8sjc3v99p0m/_end_seminar.xlsx?dl=1', 'end_seminar.xlsx')"
   ]
  },
  {
   "cell_type": "markdown",
   "id": "60bab802",
   "metadata": {
    "papermill": {
     "duration": 0.05458,
     "end_time": "2021-10-28T19:51:21.417644",
     "exception": false,
     "start_time": "2021-10-28T19:51:21.363064",
     "status": "completed"
    },
    "tags": []
   },
   "source": [
    "##### В первой части задания (до раздела \"Распределение студентов по курсам\") использование циклов запрещается и повлечет за собой снижение оценки"
   ]
  },
  {
   "cell_type": "markdown",
   "id": "57ff486d",
   "metadata": {
    "papermill": {
     "duration": 0.054271,
     "end_time": "2021-10-28T19:51:21.526609",
     "exception": false,
     "start_time": "2021-10-28T19:51:21.472338",
     "status": "completed"
    },
    "tags": []
   },
   "source": [
    "Для каждой задачи из этого раздела вы должны написать код для получения ответа, а также дать текстовый ответ, если он предполагается.\n",
    "\n",
    "На некоторые вопросы вы можете получить путём пристального взгляда на таблицу, но это не будет засчитываться. Вы в любом случае должны получить ответ с помощью кода."
   ]
  },
  {
   "cell_type": "markdown",
   "id": "adf1d285",
   "metadata": {
    "papermill": {
     "duration": 0.054204,
     "end_time": "2021-10-28T19:51:21.635505",
     "exception": false,
     "start_time": "2021-10-28T19:51:21.581301",
     "status": "completed"
    },
    "tags": []
   },
   "source": [
    "#### 1. [0 баллов] Откройте файл с таблицей (не забудьте про её формат). Выведите последние 10 строк.\n",
    "\n",
    "Посмотрите на данные и скажите, что они из себя представляют, сколько в таблице строк, какие столбцы? (на это не надо отвечать, просто подумайте об этом)"
   ]
  },
  {
   "cell_type": "code",
   "execution_count": 7,
   "id": "d3aac4ef",
   "metadata": {
    "execution": {
     "iopub.execute_input": "2021-10-28T19:51:21.748133Z",
     "iopub.status.busy": "2021-10-28T19:51:21.747496Z",
     "iopub.status.idle": "2021-10-28T19:51:22.208790Z",
     "shell.execute_reply": "2021-10-28T19:51:22.209318Z",
     "shell.execute_reply.started": "2021-10-28T19:48:32.122873Z"
    },
    "papermill": {
     "duration": 0.519425,
     "end_time": "2021-10-28T19:51:22.209501",
     "exception": false,
     "start_time": "2021-10-28T19:51:21.690076",
     "status": "completed"
    },
    "tags": []
   },
   "outputs": [
    {
     "data": {
      "text/html": [
       "<div>\n",
       "<style scoped>\n",
       "    .dataframe tbody tr th:only-of-type {\n",
       "        vertical-align: middle;\n",
       "    }\n",
       "\n",
       "    .dataframe tbody tr th {\n",
       "        vertical-align: top;\n",
       "    }\n",
       "\n",
       "    .dataframe thead th {\n",
       "        text-align: right;\n",
       "    }\n",
       "</style>\n",
       "<table border=\"1\" class=\"dataframe\">\n",
       "  <thead>\n",
       "    <tr style=\"text-align: right;\">\n",
       "      <th></th>\n",
       "      <th>timestamp</th>\n",
       "      <th>id</th>\n",
       "      <th>rating</th>\n",
       "      <th>18_group</th>\n",
       "      <th>is_mi</th>\n",
       "      <th>fall_1</th>\n",
       "      <th>fall_2</th>\n",
       "      <th>fall_3</th>\n",
       "      <th>spring_1</th>\n",
       "      <th>spring_2</th>\n",
       "      <th>spring_3</th>\n",
       "      <th>is_first_time</th>\n",
       "      <th>percentile</th>\n",
       "      <th>17_group</th>\n",
       "      <th>blended</th>\n",
       "      <th>is_ml_student</th>\n",
       "    </tr>\n",
       "  </thead>\n",
       "  <tbody>\n",
       "    <tr>\n",
       "      <th>351</th>\n",
       "      <td>2020-05-18 23:58:33.903</td>\n",
       "      <td>8fe79f84f36e3a5d2d6745621321302c</td>\n",
       "      <td>1016</td>\n",
       "      <td>NaN</td>\n",
       "      <td>NaN</td>\n",
       "      <td>Безопасность компьютерных систем</td>\n",
       "      <td>Высокопроизводительные вычисления</td>\n",
       "      <td>Сбор и обработка данных с помощью краудсорсинга</td>\n",
       "      <td>Конфликты и кооперация</td>\n",
       "      <td>Проектирование и разработка высоконагруженных ...</td>\n",
       "      <td>Символьные вычисления</td>\n",
       "      <td>Да</td>\n",
       "      <td>0.942029</td>\n",
       "      <td>174.0</td>\n",
       "      <td>DevOps</td>\n",
       "      <td>NaN</td>\n",
       "    </tr>\n",
       "    <tr>\n",
       "      <th>352</th>\n",
       "      <td>2020-05-18 23:59:20.831</td>\n",
       "      <td>f93afd8e92c336b471aa3bbbc579aefe</td>\n",
       "      <td>1298</td>\n",
       "      <td>NaN</td>\n",
       "      <td>NaN</td>\n",
       "      <td>Высокопроизводительные вычисления</td>\n",
       "      <td>Сбор и обработка данных с помощью краудсорсинга</td>\n",
       "      <td>Statistical Learning Theory</td>\n",
       "      <td>Методы сжатия и передачи медиаданных</td>\n",
       "      <td>Проектирование и разработка высоконагруженных ...</td>\n",
       "      <td>Конфликты и кооперация</td>\n",
       "      <td>Да</td>\n",
       "      <td>0.057971</td>\n",
       "      <td>175.0</td>\n",
       "      <td>DevOps</td>\n",
       "      <td>NaN</td>\n",
       "    </tr>\n",
       "    <tr>\n",
       "      <th>353</th>\n",
       "      <td>2020-05-18 23:59:28.998</td>\n",
       "      <td>9963fc00d9405a35b894cc04a7e19855</td>\n",
       "      <td>1135</td>\n",
       "      <td>NaN</td>\n",
       "      <td>NaN</td>\n",
       "      <td>Безопасность компьютерных систем</td>\n",
       "      <td>Высокопроизводительные вычисления</td>\n",
       "      <td>Безопасность компьютерных систем</td>\n",
       "      <td>Проектирование и разработка высоконагруженных ...</td>\n",
       "      <td>Методы сжатия и передачи медиаданных</td>\n",
       "      <td>Символьные вычисления</td>\n",
       "      <td>Да</td>\n",
       "      <td>0.572464</td>\n",
       "      <td>175.0</td>\n",
       "      <td>DevOps</td>\n",
       "      <td>NaN</td>\n",
       "    </tr>\n",
       "    <tr>\n",
       "      <th>354</th>\n",
       "      <td>2020-05-19 08:55:39.509</td>\n",
       "      <td>98c5a2548d93f26bd4195466e93178b3</td>\n",
       "      <td>1035</td>\n",
       "      <td>NaN</td>\n",
       "      <td>NaN</td>\n",
       "      <td>Байесовские методы машинного обучения</td>\n",
       "      <td>Глубинное обучение в обработке звука</td>\n",
       "      <td>Statistical Learning Theory</td>\n",
       "      <td>Обучение с подкреплением</td>\n",
       "      <td>Генеративные модели в машинном обучении</td>\n",
       "      <td>Методы сжатия и передачи медиаданных</td>\n",
       "      <td>Нет</td>\n",
       "      <td>0.905797</td>\n",
       "      <td>171.0</td>\n",
       "      <td>DevOps</td>\n",
       "      <td>NaN</td>\n",
       "    </tr>\n",
       "    <tr>\n",
       "      <th>355</th>\n",
       "      <td>2020-05-19 18:58:06.283</td>\n",
       "      <td>ba298cbd9be59b84bab33325e956f27e</td>\n",
       "      <td>1155</td>\n",
       "      <td>NaN</td>\n",
       "      <td>NaN</td>\n",
       "      <td>Сбор и обработка данных с помощью краудсорсинга</td>\n",
       "      <td>Байесовские методы машинного обучения</td>\n",
       "      <td>Анализ неструктурированных данных</td>\n",
       "      <td>Конфликты и кооперация</td>\n",
       "      <td>Обучение с подкреплением</td>\n",
       "      <td>Компьютерное зрение</td>\n",
       "      <td>Да</td>\n",
       "      <td>0.507246</td>\n",
       "      <td>171.0</td>\n",
       "      <td>Соревновательный анализ данных</td>\n",
       "      <td>NaN</td>\n",
       "    </tr>\n",
       "    <tr>\n",
       "      <th>356</th>\n",
       "      <td>2020-05-19 19:04:17.873</td>\n",
       "      <td>c5870b37ee3f672e4259dfb2fc02ed8f</td>\n",
       "      <td>1029</td>\n",
       "      <td>NaN</td>\n",
       "      <td>NaN</td>\n",
       "      <td>Statistical Learning Theory</td>\n",
       "      <td>Анализ неструктурированных данных</td>\n",
       "      <td>Сбор и обработка данных с помощью краудсорсинга</td>\n",
       "      <td>Обучение с подкреплением</td>\n",
       "      <td>Конфликты и кооперация</td>\n",
       "      <td>Компьютерное зрение</td>\n",
       "      <td>Да</td>\n",
       "      <td>0.920290</td>\n",
       "      <td>174.0</td>\n",
       "      <td>DevOps</td>\n",
       "      <td>NaN</td>\n",
       "    </tr>\n",
       "    <tr>\n",
       "      <th>357</th>\n",
       "      <td>2020-05-19 20:19:25.815</td>\n",
       "      <td>f44aea1095f9f5b8e2f5f0ed2b17891b</td>\n",
       "      <td>1060</td>\n",
       "      <td>NaN</td>\n",
       "      <td>NaN</td>\n",
       "      <td>Анализ неструктурированных данных</td>\n",
       "      <td>Высокопроизводительные вычисления</td>\n",
       "      <td>Моделирование временных рядов</td>\n",
       "      <td>Конфликты и кооперация</td>\n",
       "      <td>Обучение с подкреплением</td>\n",
       "      <td>Численные методы</td>\n",
       "      <td>Да</td>\n",
       "      <td>0.840580</td>\n",
       "      <td>174.0</td>\n",
       "      <td>DevOps</td>\n",
       "      <td>NaN</td>\n",
       "    </tr>\n",
       "    <tr>\n",
       "      <th>358</th>\n",
       "      <td>2020-05-20 11:54:38.318</td>\n",
       "      <td>d7118b44c7e8fdbbaaca226d2da6fef1</td>\n",
       "      <td>1111</td>\n",
       "      <td>NaN</td>\n",
       "      <td>NaN</td>\n",
       "      <td>Сбор и обработка данных с помощью краудсорсинга</td>\n",
       "      <td>Statistical Learning Theory</td>\n",
       "      <td>Анализ неструктурированных данных</td>\n",
       "      <td>Проектирование и разработка высоконагруженных ...</td>\n",
       "      <td>Методы сжатия и передачи медиаданных</td>\n",
       "      <td>Численные методы</td>\n",
       "      <td>Да</td>\n",
       "      <td>0.652174</td>\n",
       "      <td>173.0</td>\n",
       "      <td>Соревновательный анализ данных</td>\n",
       "      <td>NaN</td>\n",
       "    </tr>\n",
       "    <tr>\n",
       "      <th>359</th>\n",
       "      <td>2020-05-23 21:16:40.916</td>\n",
       "      <td>79d14db48e4737af731960ae212d5134</td>\n",
       "      <td>966</td>\n",
       "      <td>NaN</td>\n",
       "      <td>NaN</td>\n",
       "      <td>Безопасность компьютерных систем</td>\n",
       "      <td>Принятие решений в условиях риска и неопределё...</td>\n",
       "      <td>Анализ неструктурированных данных</td>\n",
       "      <td>Проектирование и разработка высоконагруженных ...</td>\n",
       "      <td>Методы сжатия и передачи медиаданных</td>\n",
       "      <td>Компьютерное зрение</td>\n",
       "      <td>Да</td>\n",
       "      <td>0.985507</td>\n",
       "      <td>172.0</td>\n",
       "      <td>DevOps</td>\n",
       "      <td>NaN</td>\n",
       "    </tr>\n",
       "    <tr>\n",
       "      <th>360</th>\n",
       "      <td>2020-05-23 21:16:40.916</td>\n",
       "      <td>f2d210ace25a841e1e58036b257d5d47</td>\n",
       "      <td>1195</td>\n",
       "      <td>NaN</td>\n",
       "      <td>NaN</td>\n",
       "      <td>Анализ неструктурированных данных</td>\n",
       "      <td>Моделирование временных рядов</td>\n",
       "      <td>Высокопроизводительные вычисления</td>\n",
       "      <td>Обучение с подкреплением</td>\n",
       "      <td>Компьютерное зрение</td>\n",
       "      <td>Методы сжатия и передачи медиаданных</td>\n",
       "      <td>NaN</td>\n",
       "      <td>0.369565</td>\n",
       "      <td>176.0</td>\n",
       "      <td>Соревновательный анализ данных</td>\n",
       "      <td>NaN</td>\n",
       "    </tr>\n",
       "  </tbody>\n",
       "</table>\n",
       "</div>"
      ],
      "text/plain": [
       "                  timestamp                                id  rating  \\\n",
       "351 2020-05-18 23:58:33.903  8fe79f84f36e3a5d2d6745621321302c    1016   \n",
       "352 2020-05-18 23:59:20.831  f93afd8e92c336b471aa3bbbc579aefe    1298   \n",
       "353 2020-05-18 23:59:28.998  9963fc00d9405a35b894cc04a7e19855    1135   \n",
       "354 2020-05-19 08:55:39.509  98c5a2548d93f26bd4195466e93178b3    1035   \n",
       "355 2020-05-19 18:58:06.283  ba298cbd9be59b84bab33325e956f27e    1155   \n",
       "356 2020-05-19 19:04:17.873  c5870b37ee3f672e4259dfb2fc02ed8f    1029   \n",
       "357 2020-05-19 20:19:25.815  f44aea1095f9f5b8e2f5f0ed2b17891b    1060   \n",
       "358 2020-05-20 11:54:38.318  d7118b44c7e8fdbbaaca226d2da6fef1    1111   \n",
       "359 2020-05-23 21:16:40.916  79d14db48e4737af731960ae212d5134     966   \n",
       "360 2020-05-23 21:16:40.916  f2d210ace25a841e1e58036b257d5d47    1195   \n",
       "\n",
       "     18_group  is_mi                                           fall_1  \\\n",
       "351       NaN    NaN                 Безопасность компьютерных систем   \n",
       "352       NaN    NaN                Высокопроизводительные вычисления   \n",
       "353       NaN    NaN                 Безопасность компьютерных систем   \n",
       "354       NaN    NaN            Байесовские методы машинного обучения   \n",
       "355       NaN    NaN  Сбор и обработка данных с помощью краудсорсинга   \n",
       "356       NaN    NaN                      Statistical Learning Theory   \n",
       "357       NaN    NaN                Анализ неструктурированных данных   \n",
       "358       NaN    NaN  Сбор и обработка данных с помощью краудсорсинга   \n",
       "359       NaN    NaN                 Безопасность компьютерных систем   \n",
       "360       NaN    NaN                Анализ неструктурированных данных   \n",
       "\n",
       "                                                fall_2  \\\n",
       "351                  Высокопроизводительные вычисления   \n",
       "352    Сбор и обработка данных с помощью краудсорсинга   \n",
       "353                  Высокопроизводительные вычисления   \n",
       "354               Глубинное обучение в обработке звука   \n",
       "355              Байесовские методы машинного обучения   \n",
       "356                  Анализ неструктурированных данных   \n",
       "357                  Высокопроизводительные вычисления   \n",
       "358                        Statistical Learning Theory   \n",
       "359  Принятие решений в условиях риска и неопределё...   \n",
       "360                      Моделирование временных рядов   \n",
       "\n",
       "                                              fall_3  \\\n",
       "351  Сбор и обработка данных с помощью краудсорсинга   \n",
       "352                      Statistical Learning Theory   \n",
       "353                 Безопасность компьютерных систем   \n",
       "354                      Statistical Learning Theory   \n",
       "355                Анализ неструктурированных данных   \n",
       "356  Сбор и обработка данных с помощью краудсорсинга   \n",
       "357                    Моделирование временных рядов   \n",
       "358                Анализ неструктурированных данных   \n",
       "359                Анализ неструктурированных данных   \n",
       "360                Высокопроизводительные вычисления   \n",
       "\n",
       "                                              spring_1  \\\n",
       "351                             Конфликты и кооперация   \n",
       "352               Методы сжатия и передачи медиаданных   \n",
       "353  Проектирование и разработка высоконагруженных ...   \n",
       "354                           Обучение с подкреплением   \n",
       "355                             Конфликты и кооперация   \n",
       "356                           Обучение с подкреплением   \n",
       "357                             Конфликты и кооперация   \n",
       "358  Проектирование и разработка высоконагруженных ...   \n",
       "359  Проектирование и разработка высоконагруженных ...   \n",
       "360                           Обучение с подкреплением   \n",
       "\n",
       "                                              spring_2  \\\n",
       "351  Проектирование и разработка высоконагруженных ...   \n",
       "352  Проектирование и разработка высоконагруженных ...   \n",
       "353               Методы сжатия и передачи медиаданных   \n",
       "354            Генеративные модели в машинном обучении   \n",
       "355                           Обучение с подкреплением   \n",
       "356                             Конфликты и кооперация   \n",
       "357                           Обучение с подкреплением   \n",
       "358               Методы сжатия и передачи медиаданных   \n",
       "359               Методы сжатия и передачи медиаданных   \n",
       "360                                Компьютерное зрение   \n",
       "\n",
       "                                 spring_3 is_first_time  percentile  17_group  \\\n",
       "351                 Символьные вычисления            Да    0.942029     174.0   \n",
       "352                Конфликты и кооперация            Да    0.057971     175.0   \n",
       "353                 Символьные вычисления            Да    0.572464     175.0   \n",
       "354  Методы сжатия и передачи медиаданных           Нет    0.905797     171.0   \n",
       "355                   Компьютерное зрение            Да    0.507246     171.0   \n",
       "356                   Компьютерное зрение            Да    0.920290     174.0   \n",
       "357                      Численные методы            Да    0.840580     174.0   \n",
       "358                      Численные методы            Да    0.652174     173.0   \n",
       "359                   Компьютерное зрение            Да    0.985507     172.0   \n",
       "360  Методы сжатия и передачи медиаданных           NaN    0.369565     176.0   \n",
       "\n",
       "                            blended  is_ml_student  \n",
       "351                          DevOps            NaN  \n",
       "352                          DevOps            NaN  \n",
       "353                          DevOps            NaN  \n",
       "354                          DevOps            NaN  \n",
       "355  Соревновательный анализ данных            NaN  \n",
       "356                          DevOps            NaN  \n",
       "357                          DevOps            NaN  \n",
       "358  Соревновательный анализ данных            NaN  \n",
       "359                          DevOps            NaN  \n",
       "360  Соревновательный анализ данных            NaN  "
      ]
     },
     "execution_count": 7,
     "metadata": {},
     "output_type": "execute_result"
    }
   ],
   "source": [
    "data = pd.DataFrame(pd.read_excel('../input/task-12/_end_seminar.xlsx'))\n",
    "data.tail(10)"
   ]
  },
  {
   "cell_type": "markdown",
   "id": "31d63f49",
   "metadata": {
    "papermill": {
     "duration": 0.056037,
     "end_time": "2021-10-28T19:51:22.324999",
     "exception": false,
     "start_time": "2021-10-28T19:51:22.268962",
     "status": "completed"
    },
    "tags": []
   },
   "source": [
    "#### 2. [0.5 балла] Ответьте на вопросы:\n",
    "1. Сколько было заявок из групп 18-го года набора, а сколько из групп 17-го года?\n",
    "2. Есть ли студенты с равными перцентилями?"
   ]
  },
  {
   "cell_type": "code",
   "execution_count": 8,
   "id": "5c80b9b9",
   "metadata": {
    "execution": {
     "iopub.execute_input": "2021-10-28T19:51:22.446176Z",
     "iopub.status.busy": "2021-10-28T19:51:22.445420Z",
     "iopub.status.idle": "2021-10-28T19:51:22.454699Z",
     "shell.execute_reply": "2021-10-28T19:51:22.455201Z",
     "shell.execute_reply.started": "2021-10-28T19:48:35.361137Z"
    },
    "papermill": {
     "duration": 0.074373,
     "end_time": "2021-10-28T19:51:22.455390",
     "exception": false,
     "start_time": "2021-10-28T19:51:22.381017",
     "status": "completed"
    },
    "tags": []
   },
   "outputs": [
    {
     "name": "stdout",
     "output_type": "stream",
     "text": [
      "223 138\n"
     ]
    }
   ],
   "source": [
    "gr18 = data.loc[data['18_group'].isnull() == False]['18_group'].count()\n",
    "gr17 = data.loc[data['17_group'].isnull() == False]['17_group'].count()\n",
    "print(gr18, gr17)"
   ]
  },
  {
   "cell_type": "markdown",
   "id": "3e5ea82a",
   "metadata": {
    "papermill": {
     "duration": 0.058478,
     "end_time": "2021-10-28T19:51:22.571413",
     "exception": false,
     "start_time": "2021-10-28T19:51:22.512935",
     "status": "completed"
    },
    "tags": []
   },
   "source": [
    "#### 3. [0.5 балла] Есть ли в данных пропуски? В каких колонках? Сколько их в каждой из этих колонок?"
   ]
  },
  {
   "cell_type": "code",
   "execution_count": 9,
   "id": "d0fee342",
   "metadata": {
    "execution": {
     "iopub.execute_input": "2021-10-28T19:51:22.688778Z",
     "iopub.status.busy": "2021-10-28T19:51:22.688119Z",
     "iopub.status.idle": "2021-10-28T19:51:22.695912Z",
     "shell.execute_reply": "2021-10-28T19:51:22.696594Z",
     "shell.execute_reply.started": "2021-10-28T19:48:50.804377Z"
    },
    "papermill": {
     "duration": 0.067849,
     "end_time": "2021-10-28T19:51:22.696773",
     "exception": false,
     "start_time": "2021-10-28T19:51:22.628924",
     "status": "completed"
    },
    "tags": []
   },
   "outputs": [
    {
     "data": {
      "text/plain": [
       "timestamp          0\n",
       "id                 0\n",
       "rating             0\n",
       "18_group         138\n",
       "is_mi            343\n",
       "fall_1             0\n",
       "fall_2             0\n",
       "fall_3             0\n",
       "spring_1           0\n",
       "spring_2           0\n",
       "spring_3           0\n",
       "is_first_time      2\n",
       "percentile         0\n",
       "17_group         223\n",
       "blended          223\n",
       "is_ml_student    304\n",
       "dtype: int64"
      ]
     },
     "execution_count": 9,
     "metadata": {},
     "output_type": "execute_result"
    }
   ],
   "source": [
    "data.isna().sum()"
   ]
  },
  {
   "cell_type": "markdown",
   "id": "95f606f3",
   "metadata": {
    "papermill": {
     "duration": 0.057326,
     "end_time": "2021-10-28T19:51:22.810873",
     "exception": false,
     "start_time": "2021-10-28T19:51:22.753547",
     "status": "completed"
    },
    "tags": []
   },
   "source": [
    "Заполните пропуски пустой строкой для строковых колонок и нулём для числовых."
   ]
  },
  {
   "cell_type": "code",
   "execution_count": 10,
   "id": "e696fcdd",
   "metadata": {
    "execution": {
     "iopub.execute_input": "2021-10-28T19:51:22.928503Z",
     "iopub.status.busy": "2021-10-28T19:51:22.927844Z",
     "iopub.status.idle": "2021-10-28T19:51:22.955570Z",
     "shell.execute_reply": "2021-10-28T19:51:22.956071Z",
     "shell.execute_reply.started": "2021-10-28T19:48:58.464523Z"
    },
    "papermill": {
     "duration": 0.088321,
     "end_time": "2021-10-28T19:51:22.956262",
     "exception": false,
     "start_time": "2021-10-28T19:51:22.867941",
     "status": "completed"
    },
    "tags": []
   },
   "outputs": [
    {
     "data": {
      "text/html": [
       "<div>\n",
       "<style scoped>\n",
       "    .dataframe tbody tr th:only-of-type {\n",
       "        vertical-align: middle;\n",
       "    }\n",
       "\n",
       "    .dataframe tbody tr th {\n",
       "        vertical-align: top;\n",
       "    }\n",
       "\n",
       "    .dataframe thead th {\n",
       "        text-align: right;\n",
       "    }\n",
       "</style>\n",
       "<table border=\"1\" class=\"dataframe\">\n",
       "  <thead>\n",
       "    <tr style=\"text-align: right;\">\n",
       "      <th></th>\n",
       "      <th>timestamp</th>\n",
       "      <th>id</th>\n",
       "      <th>rating</th>\n",
       "      <th>18_group</th>\n",
       "      <th>is_mi</th>\n",
       "      <th>fall_1</th>\n",
       "      <th>fall_2</th>\n",
       "      <th>fall_3</th>\n",
       "      <th>spring_1</th>\n",
       "      <th>spring_2</th>\n",
       "      <th>spring_3</th>\n",
       "      <th>is_first_time</th>\n",
       "      <th>percentile</th>\n",
       "      <th>17_group</th>\n",
       "      <th>blended</th>\n",
       "      <th>is_ml_student</th>\n",
       "    </tr>\n",
       "  </thead>\n",
       "  <tbody>\n",
       "    <tr>\n",
       "      <th>351</th>\n",
       "      <td>2020-05-18 23:58:33.903</td>\n",
       "      <td>8fe79f84f36e3a5d2d6745621321302c</td>\n",
       "      <td>1016</td>\n",
       "      <td>0.0</td>\n",
       "      <td>0.0</td>\n",
       "      <td>Безопасность компьютерных систем</td>\n",
       "      <td>Высокопроизводительные вычисления</td>\n",
       "      <td>Сбор и обработка данных с помощью краудсорсинга</td>\n",
       "      <td>Конфликты и кооперация</td>\n",
       "      <td>Проектирование и разработка высоконагруженных ...</td>\n",
       "      <td>Символьные вычисления</td>\n",
       "      <td>Да</td>\n",
       "      <td>0.942029</td>\n",
       "      <td>174.0</td>\n",
       "      <td>DevOps</td>\n",
       "      <td>0.0</td>\n",
       "    </tr>\n",
       "    <tr>\n",
       "      <th>352</th>\n",
       "      <td>2020-05-18 23:59:20.831</td>\n",
       "      <td>f93afd8e92c336b471aa3bbbc579aefe</td>\n",
       "      <td>1298</td>\n",
       "      <td>0.0</td>\n",
       "      <td>0.0</td>\n",
       "      <td>Высокопроизводительные вычисления</td>\n",
       "      <td>Сбор и обработка данных с помощью краудсорсинга</td>\n",
       "      <td>Statistical Learning Theory</td>\n",
       "      <td>Методы сжатия и передачи медиаданных</td>\n",
       "      <td>Проектирование и разработка высоконагруженных ...</td>\n",
       "      <td>Конфликты и кооперация</td>\n",
       "      <td>Да</td>\n",
       "      <td>0.057971</td>\n",
       "      <td>175.0</td>\n",
       "      <td>DevOps</td>\n",
       "      <td>0.0</td>\n",
       "    </tr>\n",
       "    <tr>\n",
       "      <th>353</th>\n",
       "      <td>2020-05-18 23:59:28.998</td>\n",
       "      <td>9963fc00d9405a35b894cc04a7e19855</td>\n",
       "      <td>1135</td>\n",
       "      <td>0.0</td>\n",
       "      <td>0.0</td>\n",
       "      <td>Безопасность компьютерных систем</td>\n",
       "      <td>Высокопроизводительные вычисления</td>\n",
       "      <td>Безопасность компьютерных систем</td>\n",
       "      <td>Проектирование и разработка высоконагруженных ...</td>\n",
       "      <td>Методы сжатия и передачи медиаданных</td>\n",
       "      <td>Символьные вычисления</td>\n",
       "      <td>Да</td>\n",
       "      <td>0.572464</td>\n",
       "      <td>175.0</td>\n",
       "      <td>DevOps</td>\n",
       "      <td>0.0</td>\n",
       "    </tr>\n",
       "    <tr>\n",
       "      <th>354</th>\n",
       "      <td>2020-05-19 08:55:39.509</td>\n",
       "      <td>98c5a2548d93f26bd4195466e93178b3</td>\n",
       "      <td>1035</td>\n",
       "      <td>0.0</td>\n",
       "      <td>0.0</td>\n",
       "      <td>Байесовские методы машинного обучения</td>\n",
       "      <td>Глубинное обучение в обработке звука</td>\n",
       "      <td>Statistical Learning Theory</td>\n",
       "      <td>Обучение с подкреплением</td>\n",
       "      <td>Генеративные модели в машинном обучении</td>\n",
       "      <td>Методы сжатия и передачи медиаданных</td>\n",
       "      <td>Нет</td>\n",
       "      <td>0.905797</td>\n",
       "      <td>171.0</td>\n",
       "      <td>DevOps</td>\n",
       "      <td>0.0</td>\n",
       "    </tr>\n",
       "    <tr>\n",
       "      <th>355</th>\n",
       "      <td>2020-05-19 18:58:06.283</td>\n",
       "      <td>ba298cbd9be59b84bab33325e956f27e</td>\n",
       "      <td>1155</td>\n",
       "      <td>0.0</td>\n",
       "      <td>0.0</td>\n",
       "      <td>Сбор и обработка данных с помощью краудсорсинга</td>\n",
       "      <td>Байесовские методы машинного обучения</td>\n",
       "      <td>Анализ неструктурированных данных</td>\n",
       "      <td>Конфликты и кооперация</td>\n",
       "      <td>Обучение с подкреплением</td>\n",
       "      <td>Компьютерное зрение</td>\n",
       "      <td>Да</td>\n",
       "      <td>0.507246</td>\n",
       "      <td>171.0</td>\n",
       "      <td>Соревновательный анализ данных</td>\n",
       "      <td>0.0</td>\n",
       "    </tr>\n",
       "    <tr>\n",
       "      <th>356</th>\n",
       "      <td>2020-05-19 19:04:17.873</td>\n",
       "      <td>c5870b37ee3f672e4259dfb2fc02ed8f</td>\n",
       "      <td>1029</td>\n",
       "      <td>0.0</td>\n",
       "      <td>0.0</td>\n",
       "      <td>Statistical Learning Theory</td>\n",
       "      <td>Анализ неструктурированных данных</td>\n",
       "      <td>Сбор и обработка данных с помощью краудсорсинга</td>\n",
       "      <td>Обучение с подкреплением</td>\n",
       "      <td>Конфликты и кооперация</td>\n",
       "      <td>Компьютерное зрение</td>\n",
       "      <td>Да</td>\n",
       "      <td>0.920290</td>\n",
       "      <td>174.0</td>\n",
       "      <td>DevOps</td>\n",
       "      <td>0.0</td>\n",
       "    </tr>\n",
       "    <tr>\n",
       "      <th>357</th>\n",
       "      <td>2020-05-19 20:19:25.815</td>\n",
       "      <td>f44aea1095f9f5b8e2f5f0ed2b17891b</td>\n",
       "      <td>1060</td>\n",
       "      <td>0.0</td>\n",
       "      <td>0.0</td>\n",
       "      <td>Анализ неструктурированных данных</td>\n",
       "      <td>Высокопроизводительные вычисления</td>\n",
       "      <td>Моделирование временных рядов</td>\n",
       "      <td>Конфликты и кооперация</td>\n",
       "      <td>Обучение с подкреплением</td>\n",
       "      <td>Численные методы</td>\n",
       "      <td>Да</td>\n",
       "      <td>0.840580</td>\n",
       "      <td>174.0</td>\n",
       "      <td>DevOps</td>\n",
       "      <td>0.0</td>\n",
       "    </tr>\n",
       "    <tr>\n",
       "      <th>358</th>\n",
       "      <td>2020-05-20 11:54:38.318</td>\n",
       "      <td>d7118b44c7e8fdbbaaca226d2da6fef1</td>\n",
       "      <td>1111</td>\n",
       "      <td>0.0</td>\n",
       "      <td>0.0</td>\n",
       "      <td>Сбор и обработка данных с помощью краудсорсинга</td>\n",
       "      <td>Statistical Learning Theory</td>\n",
       "      <td>Анализ неструктурированных данных</td>\n",
       "      <td>Проектирование и разработка высоконагруженных ...</td>\n",
       "      <td>Методы сжатия и передачи медиаданных</td>\n",
       "      <td>Численные методы</td>\n",
       "      <td>Да</td>\n",
       "      <td>0.652174</td>\n",
       "      <td>173.0</td>\n",
       "      <td>Соревновательный анализ данных</td>\n",
       "      <td>0.0</td>\n",
       "    </tr>\n",
       "    <tr>\n",
       "      <th>359</th>\n",
       "      <td>2020-05-23 21:16:40.916</td>\n",
       "      <td>79d14db48e4737af731960ae212d5134</td>\n",
       "      <td>966</td>\n",
       "      <td>0.0</td>\n",
       "      <td>0.0</td>\n",
       "      <td>Безопасность компьютерных систем</td>\n",
       "      <td>Принятие решений в условиях риска и неопределё...</td>\n",
       "      <td>Анализ неструктурированных данных</td>\n",
       "      <td>Проектирование и разработка высоконагруженных ...</td>\n",
       "      <td>Методы сжатия и передачи медиаданных</td>\n",
       "      <td>Компьютерное зрение</td>\n",
       "      <td>Да</td>\n",
       "      <td>0.985507</td>\n",
       "      <td>172.0</td>\n",
       "      <td>DevOps</td>\n",
       "      <td>0.0</td>\n",
       "    </tr>\n",
       "    <tr>\n",
       "      <th>360</th>\n",
       "      <td>2020-05-23 21:16:40.916</td>\n",
       "      <td>f2d210ace25a841e1e58036b257d5d47</td>\n",
       "      <td>1195</td>\n",
       "      <td>0.0</td>\n",
       "      <td>0.0</td>\n",
       "      <td>Анализ неструктурированных данных</td>\n",
       "      <td>Моделирование временных рядов</td>\n",
       "      <td>Высокопроизводительные вычисления</td>\n",
       "      <td>Обучение с подкреплением</td>\n",
       "      <td>Компьютерное зрение</td>\n",
       "      <td>Методы сжатия и передачи медиаданных</td>\n",
       "      <td></td>\n",
       "      <td>0.369565</td>\n",
       "      <td>176.0</td>\n",
       "      <td>Соревновательный анализ данных</td>\n",
       "      <td>0.0</td>\n",
       "    </tr>\n",
       "  </tbody>\n",
       "</table>\n",
       "</div>"
      ],
      "text/plain": [
       "                  timestamp                                id  rating  \\\n",
       "351 2020-05-18 23:58:33.903  8fe79f84f36e3a5d2d6745621321302c    1016   \n",
       "352 2020-05-18 23:59:20.831  f93afd8e92c336b471aa3bbbc579aefe    1298   \n",
       "353 2020-05-18 23:59:28.998  9963fc00d9405a35b894cc04a7e19855    1135   \n",
       "354 2020-05-19 08:55:39.509  98c5a2548d93f26bd4195466e93178b3    1035   \n",
       "355 2020-05-19 18:58:06.283  ba298cbd9be59b84bab33325e956f27e    1155   \n",
       "356 2020-05-19 19:04:17.873  c5870b37ee3f672e4259dfb2fc02ed8f    1029   \n",
       "357 2020-05-19 20:19:25.815  f44aea1095f9f5b8e2f5f0ed2b17891b    1060   \n",
       "358 2020-05-20 11:54:38.318  d7118b44c7e8fdbbaaca226d2da6fef1    1111   \n",
       "359 2020-05-23 21:16:40.916  79d14db48e4737af731960ae212d5134     966   \n",
       "360 2020-05-23 21:16:40.916  f2d210ace25a841e1e58036b257d5d47    1195   \n",
       "\n",
       "     18_group  is_mi                                           fall_1  \\\n",
       "351       0.0    0.0                 Безопасность компьютерных систем   \n",
       "352       0.0    0.0                Высокопроизводительные вычисления   \n",
       "353       0.0    0.0                 Безопасность компьютерных систем   \n",
       "354       0.0    0.0            Байесовские методы машинного обучения   \n",
       "355       0.0    0.0  Сбор и обработка данных с помощью краудсорсинга   \n",
       "356       0.0    0.0                      Statistical Learning Theory   \n",
       "357       0.0    0.0                Анализ неструктурированных данных   \n",
       "358       0.0    0.0  Сбор и обработка данных с помощью краудсорсинга   \n",
       "359       0.0    0.0                 Безопасность компьютерных систем   \n",
       "360       0.0    0.0                Анализ неструктурированных данных   \n",
       "\n",
       "                                                fall_2  \\\n",
       "351                  Высокопроизводительные вычисления   \n",
       "352    Сбор и обработка данных с помощью краудсорсинга   \n",
       "353                  Высокопроизводительные вычисления   \n",
       "354               Глубинное обучение в обработке звука   \n",
       "355              Байесовские методы машинного обучения   \n",
       "356                  Анализ неструктурированных данных   \n",
       "357                  Высокопроизводительные вычисления   \n",
       "358                        Statistical Learning Theory   \n",
       "359  Принятие решений в условиях риска и неопределё...   \n",
       "360                      Моделирование временных рядов   \n",
       "\n",
       "                                              fall_3  \\\n",
       "351  Сбор и обработка данных с помощью краудсорсинга   \n",
       "352                      Statistical Learning Theory   \n",
       "353                 Безопасность компьютерных систем   \n",
       "354                      Statistical Learning Theory   \n",
       "355                Анализ неструктурированных данных   \n",
       "356  Сбор и обработка данных с помощью краудсорсинга   \n",
       "357                    Моделирование временных рядов   \n",
       "358                Анализ неструктурированных данных   \n",
       "359                Анализ неструктурированных данных   \n",
       "360                Высокопроизводительные вычисления   \n",
       "\n",
       "                                              spring_1  \\\n",
       "351                             Конфликты и кооперация   \n",
       "352               Методы сжатия и передачи медиаданных   \n",
       "353  Проектирование и разработка высоконагруженных ...   \n",
       "354                           Обучение с подкреплением   \n",
       "355                             Конфликты и кооперация   \n",
       "356                           Обучение с подкреплением   \n",
       "357                             Конфликты и кооперация   \n",
       "358  Проектирование и разработка высоконагруженных ...   \n",
       "359  Проектирование и разработка высоконагруженных ...   \n",
       "360                           Обучение с подкреплением   \n",
       "\n",
       "                                              spring_2  \\\n",
       "351  Проектирование и разработка высоконагруженных ...   \n",
       "352  Проектирование и разработка высоконагруженных ...   \n",
       "353               Методы сжатия и передачи медиаданных   \n",
       "354            Генеративные модели в машинном обучении   \n",
       "355                           Обучение с подкреплением   \n",
       "356                             Конфликты и кооперация   \n",
       "357                           Обучение с подкреплением   \n",
       "358               Методы сжатия и передачи медиаданных   \n",
       "359               Методы сжатия и передачи медиаданных   \n",
       "360                                Компьютерное зрение   \n",
       "\n",
       "                                 spring_3 is_first_time  percentile  17_group  \\\n",
       "351                 Символьные вычисления            Да    0.942029     174.0   \n",
       "352                Конфликты и кооперация            Да    0.057971     175.0   \n",
       "353                 Символьные вычисления            Да    0.572464     175.0   \n",
       "354  Методы сжатия и передачи медиаданных           Нет    0.905797     171.0   \n",
       "355                   Компьютерное зрение            Да    0.507246     171.0   \n",
       "356                   Компьютерное зрение            Да    0.920290     174.0   \n",
       "357                      Численные методы            Да    0.840580     174.0   \n",
       "358                      Численные методы            Да    0.652174     173.0   \n",
       "359                   Компьютерное зрение            Да    0.985507     172.0   \n",
       "360  Методы сжатия и передачи медиаданных                  0.369565     176.0   \n",
       "\n",
       "                            blended  is_ml_student  \n",
       "351                          DevOps            0.0  \n",
       "352                          DevOps            0.0  \n",
       "353                          DevOps            0.0  \n",
       "354                          DevOps            0.0  \n",
       "355  Соревновательный анализ данных            0.0  \n",
       "356                          DevOps            0.0  \n",
       "357                          DevOps            0.0  \n",
       "358  Соревновательный анализ данных            0.0  \n",
       "359                          DevOps            0.0  \n",
       "360  Соревновательный анализ данных            0.0  "
      ]
     },
     "execution_count": 10,
     "metadata": {},
     "output_type": "execute_result"
    }
   ],
   "source": [
    "array = { '18_group': 0\n",
    "        , 'is_mi': 0\n",
    "        , 'is_first_time': ''\n",
    "        , '17_group': 0\n",
    "        , 'blended': ''\n",
    "        , 'is_ml_student': 0 }\n",
    "data = data.fillna(value=array)\n",
    "data.tail(10)"
   ]
  },
  {
   "cell_type": "markdown",
   "id": "ab088b0a",
   "metadata": {
    "papermill": {
     "duration": 0.058501,
     "end_time": "2021-10-28T19:51:23.072813",
     "exception": false,
     "start_time": "2021-10-28T19:51:23.014312",
     "status": "completed"
    },
    "tags": []
   },
   "source": [
    "#### 4. [0.5 балла] Посмотрите повнимательнее на колонку 'is_first_time'. \n",
    "\n",
    "Есть ли в ней ответы \"Нет\"? Сколько их?\n",
    "\n",
    "Если вы найдете повторные обращения студентов, оставьте только самую позднюю версию. "
   ]
  },
  {
   "cell_type": "code",
   "execution_count": 11,
   "id": "8897eb2b",
   "metadata": {
    "execution": {
     "iopub.execute_input": "2021-10-28T19:51:23.198297Z",
     "iopub.status.busy": "2021-10-28T19:51:23.197571Z",
     "iopub.status.idle": "2021-10-28T19:51:23.200517Z",
     "shell.execute_reply": "2021-10-28T19:51:23.200961Z",
     "shell.execute_reply.started": "2021-10-28T19:49:09.407049Z"
    },
    "papermill": {
     "duration": 0.070111,
     "end_time": "2021-10-28T19:51:23.201143",
     "exception": false,
     "start_time": "2021-10-28T19:51:23.131032",
     "status": "completed"
    },
    "tags": []
   },
   "outputs": [
    {
     "data": {
      "text/plain": [
       "51"
      ]
     },
     "execution_count": 11,
     "metadata": {},
     "output_type": "execute_result"
    }
   ],
   "source": [
    "data.loc[data['is_first_time']=='Нет']['is_first_time'].count()"
   ]
  },
  {
   "cell_type": "code",
   "execution_count": 12,
   "id": "87f7b09c",
   "metadata": {
    "execution": {
     "iopub.execute_input": "2021-10-28T19:51:23.323251Z",
     "iopub.status.busy": "2021-10-28T19:51:23.322513Z",
     "iopub.status.idle": "2021-10-28T19:51:23.331642Z",
     "shell.execute_reply": "2021-10-28T19:51:23.332132Z",
     "shell.execute_reply.started": "2021-10-28T19:49:11.397069Z"
    },
    "papermill": {
     "duration": 0.071355,
     "end_time": "2021-10-28T19:51:23.332340",
     "exception": false,
     "start_time": "2021-10-28T19:51:23.260985",
     "status": "completed"
    },
    "tags": []
   },
   "outputs": [],
   "source": [
    "data = data.drop_duplicates(subset=['rating'])"
   ]
  },
  {
   "cell_type": "markdown",
   "id": "a0851a06",
   "metadata": {
    "papermill": {
     "duration": 0.057939,
     "end_time": "2021-10-28T19:51:23.448468",
     "exception": false,
     "start_time": "2021-10-28T19:51:23.390529",
     "status": "completed"
    },
    "tags": []
   },
   "source": [
    "#### 5. [0.5 балла] Какие  blended-курсы для четверокурсников существуют? На какой blended-курс записалось наибольшее количество студентов? На каком из курсов собрались студенты с самым высоким средним рейтингом? "
   ]
  },
  {
   "cell_type": "code",
   "execution_count": 13,
   "id": "b1668fd2",
   "metadata": {
    "execution": {
     "iopub.execute_input": "2021-10-28T19:51:23.572555Z",
     "iopub.status.busy": "2021-10-28T19:51:23.568975Z",
     "iopub.status.idle": "2021-10-28T19:51:23.667455Z",
     "shell.execute_reply": "2021-10-28T19:51:23.666915Z",
     "shell.execute_reply.started": "2021-10-28T19:49:13.783997Z"
    },
    "papermill": {
     "duration": 0.160865,
     "end_time": "2021-10-28T19:51:23.667604",
     "exception": false,
     "start_time": "2021-10-28T19:51:23.506739",
     "status": "completed"
    },
    "tags": []
   },
   "outputs": [
    {
     "data": {
      "text/html": [
       "<div>\n",
       "<style scoped>\n",
       "    .dataframe tbody tr th:only-of-type {\n",
       "        vertical-align: middle;\n",
       "    }\n",
       "\n",
       "    .dataframe tbody tr th {\n",
       "        vertical-align: top;\n",
       "    }\n",
       "\n",
       "    .dataframe thead tr th {\n",
       "        text-align: left;\n",
       "    }\n",
       "\n",
       "    .dataframe thead tr:last-of-type th {\n",
       "        text-align: right;\n",
       "    }\n",
       "</style>\n",
       "<table border=\"1\" class=\"dataframe\">\n",
       "  <thead>\n",
       "    <tr>\n",
       "      <th></th>\n",
       "      <th colspan=\"8\" halign=\"left\">rating</th>\n",
       "      <th colspan=\"2\" halign=\"left\">18_group</th>\n",
       "      <th>...</th>\n",
       "      <th colspan=\"2\" halign=\"left\">17_group</th>\n",
       "      <th colspan=\"8\" halign=\"left\">is_ml_student</th>\n",
       "    </tr>\n",
       "    <tr>\n",
       "      <th></th>\n",
       "      <th>count</th>\n",
       "      <th>mean</th>\n",
       "      <th>std</th>\n",
       "      <th>min</th>\n",
       "      <th>25%</th>\n",
       "      <th>50%</th>\n",
       "      <th>75%</th>\n",
       "      <th>max</th>\n",
       "      <th>count</th>\n",
       "      <th>mean</th>\n",
       "      <th>...</th>\n",
       "      <th>75%</th>\n",
       "      <th>max</th>\n",
       "      <th>count</th>\n",
       "      <th>mean</th>\n",
       "      <th>std</th>\n",
       "      <th>min</th>\n",
       "      <th>25%</th>\n",
       "      <th>50%</th>\n",
       "      <th>75%</th>\n",
       "      <th>max</th>\n",
       "    </tr>\n",
       "    <tr>\n",
       "      <th>blended</th>\n",
       "      <th></th>\n",
       "      <th></th>\n",
       "      <th></th>\n",
       "      <th></th>\n",
       "      <th></th>\n",
       "      <th></th>\n",
       "      <th></th>\n",
       "      <th></th>\n",
       "      <th></th>\n",
       "      <th></th>\n",
       "      <th></th>\n",
       "      <th></th>\n",
       "      <th></th>\n",
       "      <th></th>\n",
       "      <th></th>\n",
       "      <th></th>\n",
       "      <th></th>\n",
       "      <th></th>\n",
       "      <th></th>\n",
       "      <th></th>\n",
       "      <th></th>\n",
       "    </tr>\n",
       "  </thead>\n",
       "  <tbody>\n",
       "    <tr>\n",
       "      <th></th>\n",
       "      <td>213.0</td>\n",
       "      <td>633.901408</td>\n",
       "      <td>68.016124</td>\n",
       "      <td>495.0</td>\n",
       "      <td>580.00</td>\n",
       "      <td>633.0</td>\n",
       "      <td>686.0</td>\n",
       "      <td>784.0</td>\n",
       "      <td>213.0</td>\n",
       "      <td>184.469484</td>\n",
       "      <td>...</td>\n",
       "      <td>0.0</td>\n",
       "      <td>0.0</td>\n",
       "      <td>213.0</td>\n",
       "      <td>0.262911</td>\n",
       "      <td>0.441251</td>\n",
       "      <td>0.0</td>\n",
       "      <td>0.0</td>\n",
       "      <td>0.0</td>\n",
       "      <td>1.0</td>\n",
       "      <td>1.0</td>\n",
       "    </tr>\n",
       "    <tr>\n",
       "      <th>DevOps</th>\n",
       "      <td>87.0</td>\n",
       "      <td>1154.172414</td>\n",
       "      <td>95.034903</td>\n",
       "      <td>964.0</td>\n",
       "      <td>1085.00</td>\n",
       "      <td>1154.0</td>\n",
       "      <td>1221.5</td>\n",
       "      <td>1365.0</td>\n",
       "      <td>87.0</td>\n",
       "      <td>0.000000</td>\n",
       "      <td>...</td>\n",
       "      <td>175.0</td>\n",
       "      <td>177.0</td>\n",
       "      <td>87.0</td>\n",
       "      <td>0.000000</td>\n",
       "      <td>0.000000</td>\n",
       "      <td>0.0</td>\n",
       "      <td>0.0</td>\n",
       "      <td>0.0</td>\n",
       "      <td>0.0</td>\n",
       "      <td>0.0</td>\n",
       "    </tr>\n",
       "    <tr>\n",
       "      <th>Введение в дифференциальную геометрию</th>\n",
       "      <td>15.0</td>\n",
       "      <td>1210.733333</td>\n",
       "      <td>94.808428</td>\n",
       "      <td>1085.0</td>\n",
       "      <td>1146.50</td>\n",
       "      <td>1201.0</td>\n",
       "      <td>1248.5</td>\n",
       "      <td>1457.0</td>\n",
       "      <td>15.0</td>\n",
       "      <td>0.000000</td>\n",
       "      <td>...</td>\n",
       "      <td>174.5</td>\n",
       "      <td>177.0</td>\n",
       "      <td>15.0</td>\n",
       "      <td>0.000000</td>\n",
       "      <td>0.000000</td>\n",
       "      <td>0.0</td>\n",
       "      <td>0.0</td>\n",
       "      <td>0.0</td>\n",
       "      <td>0.0</td>\n",
       "      <td>0.0</td>\n",
       "    </tr>\n",
       "    <tr>\n",
       "      <th>Соревновательный анализ данных</th>\n",
       "      <td>32.0</td>\n",
       "      <td>1144.218750</td>\n",
       "      <td>77.916719</td>\n",
       "      <td>985.0</td>\n",
       "      <td>1098.75</td>\n",
       "      <td>1157.0</td>\n",
       "      <td>1192.0</td>\n",
       "      <td>1333.0</td>\n",
       "      <td>32.0</td>\n",
       "      <td>0.000000</td>\n",
       "      <td>...</td>\n",
       "      <td>173.0</td>\n",
       "      <td>176.0</td>\n",
       "      <td>32.0</td>\n",
       "      <td>0.000000</td>\n",
       "      <td>0.000000</td>\n",
       "      <td>0.0</td>\n",
       "      <td>0.0</td>\n",
       "      <td>0.0</td>\n",
       "      <td>0.0</td>\n",
       "      <td>0.0</td>\n",
       "    </tr>\n",
       "  </tbody>\n",
       "</table>\n",
       "<p>4 rows × 48 columns</p>\n",
       "</div>"
      ],
      "text/plain": [
       "                                      rating                                  \\\n",
       "                                       count         mean        std     min   \n",
       "blended                                                                        \n",
       "                                       213.0   633.901408  68.016124   495.0   \n",
       "DevOps                                  87.0  1154.172414  95.034903   964.0   \n",
       "Введение в дифференциальную геометрию   15.0  1210.733333  94.808428  1085.0   \n",
       "Соревновательный анализ данных          32.0  1144.218750  77.916719   985.0   \n",
       "\n",
       "                                                                        \\\n",
       "                                           25%     50%     75%     max   \n",
       "blended                                                                  \n",
       "                                        580.00   633.0   686.0   784.0   \n",
       "DevOps                                 1085.00  1154.0  1221.5  1365.0   \n",
       "Введение в дифференциальную геометрию  1146.50  1201.0  1248.5  1457.0   \n",
       "Соревновательный анализ данных         1098.75  1157.0  1192.0  1333.0   \n",
       "\n",
       "                                      18_group              ... 17_group  \\\n",
       "                                         count        mean  ...      75%   \n",
       "blended                                                     ...            \n",
       "                                         213.0  184.469484  ...      0.0   \n",
       "DevOps                                    87.0    0.000000  ...    175.0   \n",
       "Введение в дифференциальную геометрию     15.0    0.000000  ...    174.5   \n",
       "Соревновательный анализ данных            32.0    0.000000  ...    173.0   \n",
       "\n",
       "                                             is_ml_student            \\\n",
       "                                         max         count      mean   \n",
       "blended                                                                \n",
       "                                         0.0         213.0  0.262911   \n",
       "DevOps                                 177.0          87.0  0.000000   \n",
       "Введение в дифференциальную геометрию  177.0          15.0  0.000000   \n",
       "Соревновательный анализ данных         176.0          32.0  0.000000   \n",
       "\n",
       "                                                                          \n",
       "                                            std  min  25%  50%  75%  max  \n",
       "blended                                                                   \n",
       "                                       0.441251  0.0  0.0  0.0  1.0  1.0  \n",
       "DevOps                                 0.000000  0.0  0.0  0.0  0.0  0.0  \n",
       "Введение в дифференциальную геометрию  0.000000  0.0  0.0  0.0  0.0  0.0  \n",
       "Соревновательный анализ данных         0.000000  0.0  0.0  0.0  0.0  0.0  \n",
       "\n",
       "[4 rows x 48 columns]"
      ]
     },
     "execution_count": 13,
     "metadata": {},
     "output_type": "execute_result"
    }
   ],
   "source": [
    "data.groupby('blended').describe()"
   ]
  },
  {
   "cell_type": "code",
   "execution_count": 14,
   "id": "d7b0762c",
   "metadata": {
    "execution": {
     "iopub.execute_input": "2021-10-28T19:51:23.791039Z",
     "iopub.status.busy": "2021-10-28T19:51:23.788693Z",
     "iopub.status.idle": "2021-10-28T19:51:23.799153Z",
     "shell.execute_reply": "2021-10-28T19:51:23.799758Z",
     "shell.execute_reply.started": "2021-10-28T19:49:15.900768Z"
    },
    "papermill": {
     "duration": 0.072987,
     "end_time": "2021-10-28T19:51:23.800060",
     "exception": false,
     "start_time": "2021-10-28T19:51:23.727073",
     "status": "completed"
    },
    "tags": []
   },
   "outputs": [
    {
     "data": {
      "text/plain": [
       "blended\n",
       "                                          633.901408\n",
       "DevOps                                   1154.172414\n",
       "Введение в дифференциальную геометрию    1210.733333\n",
       "Соревновательный анализ данных           1144.218750\n",
       "Name: rating, dtype: float64"
      ]
     },
     "execution_count": 14,
     "metadata": {},
     "output_type": "execute_result"
    }
   ],
   "source": [
    "data.groupby('blended')['rating'].mean()"
   ]
  },
  {
   "cell_type": "markdown",
   "id": "b1cfdadc",
   "metadata": {
    "papermill": {
     "duration": 0.05879,
     "end_time": "2021-10-28T19:51:23.918629",
     "exception": false,
     "start_time": "2021-10-28T19:51:23.859839",
     "status": "completed"
    },
    "tags": []
   },
   "source": [
    "#### 6. [1 балл] Выясните, есть ли в данных студенты с абсолютно одинаковыми предпочтениями по всем курсам (не забудьте учесть blended-курсы для четверокурсников). Сколько таких наборов, которые взяли несколько студентов? Выведите их все вместе с количеством выбравших их студентов."
   ]
  },
  {
   "cell_type": "code",
   "execution_count": 15,
   "id": "66ef5771",
   "metadata": {
    "execution": {
     "iopub.execute_input": "2021-10-28T19:51:24.047670Z",
     "iopub.status.busy": "2021-10-28T19:51:24.042291Z",
     "iopub.status.idle": "2021-10-28T19:51:24.082517Z",
     "shell.execute_reply": "2021-10-28T19:51:24.083066Z",
     "shell.execute_reply.started": "2021-10-28T19:49:18.041390Z"
    },
    "papermill": {
     "duration": 0.105304,
     "end_time": "2021-10-28T19:51:24.083276",
     "exception": false,
     "start_time": "2021-10-28T19:51:23.977972",
     "status": "completed"
    },
    "tags": []
   },
   "outputs": [
    {
     "name": "stdout",
     "output_type": "stream",
     "text": [
      "17\n"
     ]
    },
    {
     "data": {
      "text/html": [
       "<div>\n",
       "<style scoped>\n",
       "    .dataframe tbody tr th:only-of-type {\n",
       "        vertical-align: middle;\n",
       "    }\n",
       "\n",
       "    .dataframe tbody tr th {\n",
       "        vertical-align: top;\n",
       "    }\n",
       "\n",
       "    .dataframe thead th {\n",
       "        text-align: right;\n",
       "    }\n",
       "</style>\n",
       "<table border=\"1\" class=\"dataframe\">\n",
       "  <thead>\n",
       "    <tr style=\"text-align: right;\">\n",
       "      <th></th>\n",
       "      <th>timestamp</th>\n",
       "      <th>id</th>\n",
       "      <th>rating</th>\n",
       "      <th>18_group</th>\n",
       "      <th>is_mi</th>\n",
       "      <th>fall_1</th>\n",
       "      <th>fall_2</th>\n",
       "      <th>fall_3</th>\n",
       "      <th>spring_1</th>\n",
       "      <th>spring_2</th>\n",
       "      <th>spring_3</th>\n",
       "      <th>is_first_time</th>\n",
       "      <th>percentile</th>\n",
       "      <th>17_group</th>\n",
       "      <th>blended</th>\n",
       "      <th>is_ml_student</th>\n",
       "    </tr>\n",
       "  </thead>\n",
       "  <tbody>\n",
       "    <tr>\n",
       "      <th>40</th>\n",
       "      <td>2020-05-17 00:54:43.939</td>\n",
       "      <td>d38ebd0ba564ea88de8015e116f811c8</td>\n",
       "      <td>546</td>\n",
       "      <td>187.0</td>\n",
       "      <td>0.0</td>\n",
       "      <td>Безопасность компьютерных систем</td>\n",
       "      <td>Высокопроизводительные вычисления</td>\n",
       "      <td>Язык SQL</td>\n",
       "      <td>Компьютерные сети</td>\n",
       "      <td>Промышленное программирование на языке Java</td>\n",
       "      <td>Дискретная оптимизация</td>\n",
       "      <td>Да</td>\n",
       "      <td>0.883408</td>\n",
       "      <td>0.0</td>\n",
       "      <td></td>\n",
       "      <td>0.0</td>\n",
       "    </tr>\n",
       "    <tr>\n",
       "      <th>72</th>\n",
       "      <td>2020-05-18 14:44:19.586</td>\n",
       "      <td>fa4860bc719aadedbb00ba027067a8b7</td>\n",
       "      <td>642</td>\n",
       "      <td>187.0</td>\n",
       "      <td>0.0</td>\n",
       "      <td>Безопасность компьютерных систем</td>\n",
       "      <td>Высокопроизводительные вычисления</td>\n",
       "      <td>Язык SQL</td>\n",
       "      <td>Компьютерные сети</td>\n",
       "      <td>Промышленное программирование на языке Java</td>\n",
       "      <td>Дискретная оптимизация</td>\n",
       "      <td>Да</td>\n",
       "      <td>0.448430</td>\n",
       "      <td>0.0</td>\n",
       "      <td></td>\n",
       "      <td>0.0</td>\n",
       "    </tr>\n",
       "    <tr>\n",
       "      <th>84</th>\n",
       "      <td>2020-05-18 17:22:56.786</td>\n",
       "      <td>bfe75c08c6b7e31d4e7d48c9c5fed69b</td>\n",
       "      <td>758</td>\n",
       "      <td>182.0</td>\n",
       "      <td>0.0</td>\n",
       "      <td>Безопасность компьютерных систем</td>\n",
       "      <td>Statistical Learning Theory</td>\n",
       "      <td>Матричные вычисления</td>\n",
       "      <td>Дискретная оптимизация</td>\n",
       "      <td>Промышленное программирование на языке Java</td>\n",
       "      <td>Дополнительные главы прикладной статистики</td>\n",
       "      <td>Да</td>\n",
       "      <td>0.022422</td>\n",
       "      <td>0.0</td>\n",
       "      <td></td>\n",
       "      <td>1.0</td>\n",
       "    </tr>\n",
       "    <tr>\n",
       "      <th>88</th>\n",
       "      <td>2020-05-18 17:56:00.688</td>\n",
       "      <td>044e038535ae5d2ff037150b77fdc6d1</td>\n",
       "      <td>710</td>\n",
       "      <td>182.0</td>\n",
       "      <td>0.0</td>\n",
       "      <td>Безопасность компьютерных систем</td>\n",
       "      <td>Statistical Learning Theory</td>\n",
       "      <td>Матричные вычисления</td>\n",
       "      <td>Дискретная оптимизация</td>\n",
       "      <td>Промышленное программирование на языке Java</td>\n",
       "      <td>Дополнительные главы прикладной статистики</td>\n",
       "      <td>Да</td>\n",
       "      <td>0.139013</td>\n",
       "      <td>0.0</td>\n",
       "      <td></td>\n",
       "      <td>1.0</td>\n",
       "    </tr>\n",
       "    <tr>\n",
       "      <th>105</th>\n",
       "      <td>2020-05-18 19:25:39.947</td>\n",
       "      <td>5a6f07c1f6186408b43f0f8e729168e9</td>\n",
       "      <td>632</td>\n",
       "      <td>186.0</td>\n",
       "      <td>0.0</td>\n",
       "      <td>Моделирование временных рядов</td>\n",
       "      <td>Сбор и обработка данных с помощью краудсорсинга</td>\n",
       "      <td>Безопасность компьютерных систем</td>\n",
       "      <td>Компьютерные сети</td>\n",
       "      <td>Дополнительные главы прикладной статистики</td>\n",
       "      <td>Системы баз данных</td>\n",
       "      <td>Да</td>\n",
       "      <td>0.493274</td>\n",
       "      <td>0.0</td>\n",
       "      <td></td>\n",
       "      <td>1.0</td>\n",
       "    </tr>\n",
       "    <tr>\n",
       "      <th>110</th>\n",
       "      <td>2020-05-18 19:36:51.479</td>\n",
       "      <td>f5d9f99cb876ca0888d18b6e444fa1b1</td>\n",
       "      <td>516</td>\n",
       "      <td>187.0</td>\n",
       "      <td>0.0</td>\n",
       "      <td>Сбор и обработка данных с помощью краудсорсинга</td>\n",
       "      <td>Язык SQL</td>\n",
       "      <td>Теория баз данных</td>\n",
       "      <td>Промышленное программирование на языке Java</td>\n",
       "      <td>Машинное обучение 2</td>\n",
       "      <td>Компьютерные сети</td>\n",
       "      <td>Нет</td>\n",
       "      <td>0.982063</td>\n",
       "      <td>0.0</td>\n",
       "      <td></td>\n",
       "      <td>0.0</td>\n",
       "    </tr>\n",
       "    <tr>\n",
       "      <th>133</th>\n",
       "      <td>2020-05-18 21:15:58.617</td>\n",
       "      <td>a6ce02b12540bca3cdd15757f8a2e919</td>\n",
       "      <td>597</td>\n",
       "      <td>185.0</td>\n",
       "      <td>0.0</td>\n",
       "      <td>Безопасность компьютерных систем</td>\n",
       "      <td>Сбор и обработка данных с помощью краудсорсинга</td>\n",
       "      <td>Матричные вычисления</td>\n",
       "      <td>Компьютерные сети</td>\n",
       "      <td>Промышленное программирование на языке Java</td>\n",
       "      <td>Анализ данных в бизнесе</td>\n",
       "      <td>Да</td>\n",
       "      <td>0.663677</td>\n",
       "      <td>0.0</td>\n",
       "      <td></td>\n",
       "      <td>0.0</td>\n",
       "    </tr>\n",
       "    <tr>\n",
       "      <th>171</th>\n",
       "      <td>2020-05-18 22:32:20.002</td>\n",
       "      <td>851497aadac83e844753bb3b2163c79b</td>\n",
       "      <td>654</td>\n",
       "      <td>183.0</td>\n",
       "      <td>0.0</td>\n",
       "      <td>Безопасность компьютерных систем</td>\n",
       "      <td>Высокопроизводительные вычисления</td>\n",
       "      <td>Язык SQL</td>\n",
       "      <td>Промышленное программирование на языке Java</td>\n",
       "      <td>Компьютерные сети</td>\n",
       "      <td>Системы баз данных</td>\n",
       "      <td>Да</td>\n",
       "      <td>0.394619</td>\n",
       "      <td>0.0</td>\n",
       "      <td></td>\n",
       "      <td>0.0</td>\n",
       "    </tr>\n",
       "    <tr>\n",
       "      <th>178</th>\n",
       "      <td>2020-05-18 22:56:27.522</td>\n",
       "      <td>6388c7920a7d454d2db81430f1f231c4</td>\n",
       "      <td>599</td>\n",
       "      <td>183.0</td>\n",
       "      <td>0.0</td>\n",
       "      <td>Безопасность компьютерных систем</td>\n",
       "      <td>Матричные вычисления</td>\n",
       "      <td>Моделирование временных рядов</td>\n",
       "      <td>Промышленное программирование на языке Java</td>\n",
       "      <td>Компьютерные сети</td>\n",
       "      <td>Дискретная оптимизация</td>\n",
       "      <td>Да</td>\n",
       "      <td>0.654709</td>\n",
       "      <td>0.0</td>\n",
       "      <td></td>\n",
       "      <td>0.0</td>\n",
       "    </tr>\n",
       "    <tr>\n",
       "      <th>185</th>\n",
       "      <td>2020-05-18 23:11:05.179</td>\n",
       "      <td>813663487952e66e7c39d29b0931206d</td>\n",
       "      <td>585</td>\n",
       "      <td>183.0</td>\n",
       "      <td>0.0</td>\n",
       "      <td>Язык SQL</td>\n",
       "      <td>Высокопроизводительные вычисления</td>\n",
       "      <td>Теория баз данных</td>\n",
       "      <td>Компьютерные сети</td>\n",
       "      <td>Промышленное программирование на языке Java</td>\n",
       "      <td>Дискретная оптимизация</td>\n",
       "      <td>Да</td>\n",
       "      <td>0.717489</td>\n",
       "      <td>0.0</td>\n",
       "      <td></td>\n",
       "      <td>0.0</td>\n",
       "    </tr>\n",
       "    <tr>\n",
       "      <th>228</th>\n",
       "      <td>2020-05-14 21:10:58.417</td>\n",
       "      <td>8c3aa7371731bef999519c3de2c47423</td>\n",
       "      <td>1101</td>\n",
       "      <td>0.0</td>\n",
       "      <td>0.0</td>\n",
       "      <td>Безопасность компьютерных систем</td>\n",
       "      <td>Высокопроизводительные вычисления</td>\n",
       "      <td>Анализ неструктурированных данных</td>\n",
       "      <td>Проектирование и разработка высоконагруженных ...</td>\n",
       "      <td>Методы сжатия и передачи медиаданных</td>\n",
       "      <td>Конфликты и кооперация</td>\n",
       "      <td>Да</td>\n",
       "      <td>0.695652</td>\n",
       "      <td>176.0</td>\n",
       "      <td>DevOps</td>\n",
       "      <td>0.0</td>\n",
       "    </tr>\n",
       "    <tr>\n",
       "      <th>266</th>\n",
       "      <td>2020-05-17 19:44:23.500</td>\n",
       "      <td>d028e00edda581b07bcbe6b841e6dc39</td>\n",
       "      <td>1242</td>\n",
       "      <td>0.0</td>\n",
       "      <td>0.0</td>\n",
       "      <td>Байесовские методы машинного обучения</td>\n",
       "      <td>Анализ неструктурированных данных</td>\n",
       "      <td>Глубинное обучение в обработке звука</td>\n",
       "      <td>Обучение с подкреплением</td>\n",
       "      <td>Генеративные модели в машинном обучении</td>\n",
       "      <td>Компьютерное зрение</td>\n",
       "      <td>Да</td>\n",
       "      <td>0.166667</td>\n",
       "      <td>171.0</td>\n",
       "      <td>DevOps</td>\n",
       "      <td>0.0</td>\n",
       "    </tr>\n",
       "    <tr>\n",
       "      <th>274</th>\n",
       "      <td>2020-05-18 12:40:49.066</td>\n",
       "      <td>5d76b97bcf684f8a1ec03057dd94d416</td>\n",
       "      <td>1257</td>\n",
       "      <td>0.0</td>\n",
       "      <td>0.0</td>\n",
       "      <td>Высокопроизводительные вычисления</td>\n",
       "      <td>Сбор и обработка данных с помощью краудсорсинга</td>\n",
       "      <td>Моделирование временных рядов</td>\n",
       "      <td>Проектирование и разработка высоконагруженных ...</td>\n",
       "      <td>Методы сжатия и передачи медиаданных</td>\n",
       "      <td>Методы сжатия и передачи медиаданных</td>\n",
       "      <td>Да</td>\n",
       "      <td>0.137681</td>\n",
       "      <td>175.0</td>\n",
       "      <td>DevOps</td>\n",
       "      <td>0.0</td>\n",
       "    </tr>\n",
       "    <tr>\n",
       "      <th>278</th>\n",
       "      <td>2020-05-18 13:31:45.687</td>\n",
       "      <td>9775834d44b69d181c5fb0c0af57c783</td>\n",
       "      <td>1231</td>\n",
       "      <td>0.0</td>\n",
       "      <td>0.0</td>\n",
       "      <td>Байесовские методы машинного обучения</td>\n",
       "      <td>Анализ неструктурированных данных</td>\n",
       "      <td>Глубинное обучение в обработке звука</td>\n",
       "      <td>Обучение с подкреплением</td>\n",
       "      <td>Генеративные модели в машинном обучении</td>\n",
       "      <td>Компьютерное зрение</td>\n",
       "      <td>Да</td>\n",
       "      <td>0.210145</td>\n",
       "      <td>171.0</td>\n",
       "      <td>DevOps</td>\n",
       "      <td>0.0</td>\n",
       "    </tr>\n",
       "    <tr>\n",
       "      <th>291</th>\n",
       "      <td>2020-05-18 18:13:35.809</td>\n",
       "      <td>c976c868dd660e792ab82ba8d9e02506</td>\n",
       "      <td>1087</td>\n",
       "      <td>0.0</td>\n",
       "      <td>0.0</td>\n",
       "      <td>Высокопроизводительные вычисления</td>\n",
       "      <td>Безопасность компьютерных систем</td>\n",
       "      <td>Сбор и обработка данных с помощью краудсорсинга</td>\n",
       "      <td>Проектирование и разработка высоконагруженных ...</td>\n",
       "      <td>Методы сжатия и передачи медиаданных</td>\n",
       "      <td>Компьютерное зрение</td>\n",
       "      <td>Да</td>\n",
       "      <td>0.753623</td>\n",
       "      <td>176.0</td>\n",
       "      <td>DevOps</td>\n",
       "      <td>0.0</td>\n",
       "    </tr>\n",
       "    <tr>\n",
       "      <th>320</th>\n",
       "      <td>2020-05-18 22:14:40.670</td>\n",
       "      <td>f98ac9a12b43a53c0fa44491cb56890c</td>\n",
       "      <td>1147</td>\n",
       "      <td>0.0</td>\n",
       "      <td>0.0</td>\n",
       "      <td>Байесовские методы машинного обучения</td>\n",
       "      <td>Анализ неструктурированных данных</td>\n",
       "      <td>Сбор и обработка данных с помощью краудсорсинга</td>\n",
       "      <td>Обучение с подкреплением</td>\n",
       "      <td>Компьютерное зрение</td>\n",
       "      <td>Генеративные модели в машинном обучении</td>\n",
       "      <td>Да</td>\n",
       "      <td>0.528986</td>\n",
       "      <td>171.0</td>\n",
       "      <td>DevOps</td>\n",
       "      <td>0.0</td>\n",
       "    </tr>\n",
       "    <tr>\n",
       "      <th>356</th>\n",
       "      <td>2020-05-19 19:04:17.873</td>\n",
       "      <td>c5870b37ee3f672e4259dfb2fc02ed8f</td>\n",
       "      <td>1029</td>\n",
       "      <td>0.0</td>\n",
       "      <td>0.0</td>\n",
       "      <td>Statistical Learning Theory</td>\n",
       "      <td>Анализ неструктурированных данных</td>\n",
       "      <td>Сбор и обработка данных с помощью краудсорсинга</td>\n",
       "      <td>Обучение с подкреплением</td>\n",
       "      <td>Конфликты и кооперация</td>\n",
       "      <td>Компьютерное зрение</td>\n",
       "      <td>Да</td>\n",
       "      <td>0.920290</td>\n",
       "      <td>174.0</td>\n",
       "      <td>DevOps</td>\n",
       "      <td>0.0</td>\n",
       "    </tr>\n",
       "  </tbody>\n",
       "</table>\n",
       "</div>"
      ],
      "text/plain": [
       "                  timestamp                                id  rating  \\\n",
       "40  2020-05-17 00:54:43.939  d38ebd0ba564ea88de8015e116f811c8     546   \n",
       "72  2020-05-18 14:44:19.586  fa4860bc719aadedbb00ba027067a8b7     642   \n",
       "84  2020-05-18 17:22:56.786  bfe75c08c6b7e31d4e7d48c9c5fed69b     758   \n",
       "88  2020-05-18 17:56:00.688  044e038535ae5d2ff037150b77fdc6d1     710   \n",
       "105 2020-05-18 19:25:39.947  5a6f07c1f6186408b43f0f8e729168e9     632   \n",
       "110 2020-05-18 19:36:51.479  f5d9f99cb876ca0888d18b6e444fa1b1     516   \n",
       "133 2020-05-18 21:15:58.617  a6ce02b12540bca3cdd15757f8a2e919     597   \n",
       "171 2020-05-18 22:32:20.002  851497aadac83e844753bb3b2163c79b     654   \n",
       "178 2020-05-18 22:56:27.522  6388c7920a7d454d2db81430f1f231c4     599   \n",
       "185 2020-05-18 23:11:05.179  813663487952e66e7c39d29b0931206d     585   \n",
       "228 2020-05-14 21:10:58.417  8c3aa7371731bef999519c3de2c47423    1101   \n",
       "266 2020-05-17 19:44:23.500  d028e00edda581b07bcbe6b841e6dc39    1242   \n",
       "274 2020-05-18 12:40:49.066  5d76b97bcf684f8a1ec03057dd94d416    1257   \n",
       "278 2020-05-18 13:31:45.687  9775834d44b69d181c5fb0c0af57c783    1231   \n",
       "291 2020-05-18 18:13:35.809  c976c868dd660e792ab82ba8d9e02506    1087   \n",
       "320 2020-05-18 22:14:40.670  f98ac9a12b43a53c0fa44491cb56890c    1147   \n",
       "356 2020-05-19 19:04:17.873  c5870b37ee3f672e4259dfb2fc02ed8f    1029   \n",
       "\n",
       "     18_group  is_mi                                           fall_1  \\\n",
       "40      187.0    0.0                 Безопасность компьютерных систем   \n",
       "72      187.0    0.0                 Безопасность компьютерных систем   \n",
       "84      182.0    0.0                 Безопасность компьютерных систем   \n",
       "88      182.0    0.0                 Безопасность компьютерных систем   \n",
       "105     186.0    0.0                    Моделирование временных рядов   \n",
       "110     187.0    0.0  Сбор и обработка данных с помощью краудсорсинга   \n",
       "133     185.0    0.0                 Безопасность компьютерных систем   \n",
       "171     183.0    0.0                 Безопасность компьютерных систем   \n",
       "178     183.0    0.0                 Безопасность компьютерных систем   \n",
       "185     183.0    0.0                                         Язык SQL   \n",
       "228       0.0    0.0                 Безопасность компьютерных систем   \n",
       "266       0.0    0.0            Байесовские методы машинного обучения   \n",
       "274       0.0    0.0                Высокопроизводительные вычисления   \n",
       "278       0.0    0.0            Байесовские методы машинного обучения   \n",
       "291       0.0    0.0                Высокопроизводительные вычисления   \n",
       "320       0.0    0.0            Байесовские методы машинного обучения   \n",
       "356       0.0    0.0                      Statistical Learning Theory   \n",
       "\n",
       "                                              fall_2  \\\n",
       "40                 Высокопроизводительные вычисления   \n",
       "72                 Высокопроизводительные вычисления   \n",
       "84                       Statistical Learning Theory   \n",
       "88                       Statistical Learning Theory   \n",
       "105  Сбор и обработка данных с помощью краудсорсинга   \n",
       "110                                         Язык SQL   \n",
       "133  Сбор и обработка данных с помощью краудсорсинга   \n",
       "171                Высокопроизводительные вычисления   \n",
       "178                             Матричные вычисления   \n",
       "185                Высокопроизводительные вычисления   \n",
       "228                Высокопроизводительные вычисления   \n",
       "266                Анализ неструктурированных данных   \n",
       "274  Сбор и обработка данных с помощью краудсорсинга   \n",
       "278                Анализ неструктурированных данных   \n",
       "291                 Безопасность компьютерных систем   \n",
       "320                Анализ неструктурированных данных   \n",
       "356                Анализ неструктурированных данных   \n",
       "\n",
       "                                              fall_3  \\\n",
       "40                                          Язык SQL   \n",
       "72                                          Язык SQL   \n",
       "84                              Матричные вычисления   \n",
       "88                              Матричные вычисления   \n",
       "105                 Безопасность компьютерных систем   \n",
       "110                                Теория баз данных   \n",
       "133                             Матричные вычисления   \n",
       "171                                         Язык SQL   \n",
       "178                    Моделирование временных рядов   \n",
       "185                                Теория баз данных   \n",
       "228                Анализ неструктурированных данных   \n",
       "266             Глубинное обучение в обработке звука   \n",
       "274                    Моделирование временных рядов   \n",
       "278             Глубинное обучение в обработке звука   \n",
       "291  Сбор и обработка данных с помощью краудсорсинга   \n",
       "320  Сбор и обработка данных с помощью краудсорсинга   \n",
       "356  Сбор и обработка данных с помощью краудсорсинга   \n",
       "\n",
       "                                              spring_1  \\\n",
       "40                                   Компьютерные сети   \n",
       "72                                   Компьютерные сети   \n",
       "84                              Дискретная оптимизация   \n",
       "88                              Дискретная оптимизация   \n",
       "105                                  Компьютерные сети   \n",
       "110        Промышленное программирование на языке Java   \n",
       "133                                  Компьютерные сети   \n",
       "171        Промышленное программирование на языке Java   \n",
       "178        Промышленное программирование на языке Java   \n",
       "185                                  Компьютерные сети   \n",
       "228  Проектирование и разработка высоконагруженных ...   \n",
       "266                           Обучение с подкреплением   \n",
       "274  Проектирование и разработка высоконагруженных ...   \n",
       "278                           Обучение с подкреплением   \n",
       "291  Проектирование и разработка высоконагруженных ...   \n",
       "320                           Обучение с подкреплением   \n",
       "356                           Обучение с подкреплением   \n",
       "\n",
       "                                        spring_2  \\\n",
       "40   Промышленное программирование на языке Java   \n",
       "72   Промышленное программирование на языке Java   \n",
       "84   Промышленное программирование на языке Java   \n",
       "88   Промышленное программирование на языке Java   \n",
       "105   Дополнительные главы прикладной статистики   \n",
       "110                          Машинное обучение 2   \n",
       "133  Промышленное программирование на языке Java   \n",
       "171                            Компьютерные сети   \n",
       "178                            Компьютерные сети   \n",
       "185  Промышленное программирование на языке Java   \n",
       "228         Методы сжатия и передачи медиаданных   \n",
       "266      Генеративные модели в машинном обучении   \n",
       "274         Методы сжатия и передачи медиаданных   \n",
       "278      Генеративные модели в машинном обучении   \n",
       "291         Методы сжатия и передачи медиаданных   \n",
       "320                          Компьютерное зрение   \n",
       "356                       Конфликты и кооперация   \n",
       "\n",
       "                                       spring_3 is_first_time  percentile  \\\n",
       "40                       Дискретная оптимизация            Да    0.883408   \n",
       "72                       Дискретная оптимизация            Да    0.448430   \n",
       "84   Дополнительные главы прикладной статистики            Да    0.022422   \n",
       "88   Дополнительные главы прикладной статистики            Да    0.139013   \n",
       "105                          Системы баз данных            Да    0.493274   \n",
       "110                           Компьютерные сети           Нет    0.982063   \n",
       "133                     Анализ данных в бизнесе            Да    0.663677   \n",
       "171                          Системы баз данных            Да    0.394619   \n",
       "178                      Дискретная оптимизация            Да    0.654709   \n",
       "185                      Дискретная оптимизация            Да    0.717489   \n",
       "228                      Конфликты и кооперация            Да    0.695652   \n",
       "266                         Компьютерное зрение            Да    0.166667   \n",
       "274        Методы сжатия и передачи медиаданных            Да    0.137681   \n",
       "278                         Компьютерное зрение            Да    0.210145   \n",
       "291                         Компьютерное зрение            Да    0.753623   \n",
       "320     Генеративные модели в машинном обучении            Да    0.528986   \n",
       "356                         Компьютерное зрение            Да    0.920290   \n",
       "\n",
       "     17_group blended  is_ml_student  \n",
       "40        0.0                    0.0  \n",
       "72        0.0                    0.0  \n",
       "84        0.0                    1.0  \n",
       "88        0.0                    1.0  \n",
       "105       0.0                    1.0  \n",
       "110       0.0                    0.0  \n",
       "133       0.0                    0.0  \n",
       "171       0.0                    0.0  \n",
       "178       0.0                    0.0  \n",
       "185       0.0                    0.0  \n",
       "228     176.0  DevOps            0.0  \n",
       "266     171.0  DevOps            0.0  \n",
       "274     175.0  DevOps            0.0  \n",
       "278     171.0  DevOps            0.0  \n",
       "291     176.0  DevOps            0.0  \n",
       "320     171.0  DevOps            0.0  \n",
       "356     174.0  DevOps            0.0  "
      ]
     },
     "execution_count": 15,
     "metadata": {},
     "output_type": "execute_result"
    }
   ],
   "source": [
    "same = data.duplicated(subset = ['fall_1', 'fall_2','fall_3','spring_1', 'spring_2','spring_3','blended'])\n",
    "print(same.sum())\n",
    "data[same==True]"
   ]
  },
  {
   "cell_type": "markdown",
   "id": "adfdfd7e",
   "metadata": {
    "papermill": {
     "duration": 0.060499,
     "end_time": "2021-10-28T19:51:24.204705",
     "exception": false,
     "start_time": "2021-10-28T19:51:24.144206",
     "status": "completed"
    },
    "tags": []
   },
   "source": [
    "#### 7. [0.5 балла] Найдите курсы по выбору, на которые записывались как студенты 18-го года набора, так и студенты 17-го года."
   ]
  },
  {
   "cell_type": "code",
   "execution_count": 16,
   "id": "fa943fa6",
   "metadata": {
    "execution": {
     "iopub.execute_input": "2021-10-28T19:51:24.331831Z",
     "iopub.status.busy": "2021-10-28T19:51:24.330847Z",
     "iopub.status.idle": "2021-10-28T19:51:24.342688Z",
     "shell.execute_reply": "2021-10-28T19:51:24.343305Z",
     "shell.execute_reply.started": "2021-10-28T19:49:22.258073Z"
    },
    "papermill": {
     "duration": 0.076724,
     "end_time": "2021-10-28T19:51:24.343479",
     "exception": false,
     "start_time": "2021-10-28T19:51:24.266755",
     "status": "completed"
    },
    "tags": []
   },
   "outputs": [
    {
     "data": {
      "text/html": [
       "<div>\n",
       "<style scoped>\n",
       "    .dataframe tbody tr th:only-of-type {\n",
       "        vertical-align: middle;\n",
       "    }\n",
       "\n",
       "    .dataframe tbody tr th {\n",
       "        vertical-align: top;\n",
       "    }\n",
       "\n",
       "    .dataframe thead th {\n",
       "        text-align: right;\n",
       "    }\n",
       "</style>\n",
       "<table border=\"1\" class=\"dataframe\">\n",
       "  <thead>\n",
       "    <tr style=\"text-align: right;\">\n",
       "      <th></th>\n",
       "      <th>timestamp</th>\n",
       "      <th>id</th>\n",
       "      <th>rating</th>\n",
       "      <th>18_group</th>\n",
       "      <th>is_mi</th>\n",
       "      <th>fall_1</th>\n",
       "      <th>fall_2</th>\n",
       "      <th>fall_3</th>\n",
       "      <th>spring_1</th>\n",
       "      <th>spring_2</th>\n",
       "      <th>spring_3</th>\n",
       "      <th>is_first_time</th>\n",
       "      <th>percentile</th>\n",
       "      <th>17_group</th>\n",
       "      <th>blended</th>\n",
       "      <th>is_ml_student</th>\n",
       "    </tr>\n",
       "  </thead>\n",
       "  <tbody>\n",
       "  </tbody>\n",
       "</table>\n",
       "</div>"
      ],
      "text/plain": [
       "Empty DataFrame\n",
       "Columns: [timestamp, id, rating, 18_group, is_mi, fall_1, fall_2, fall_3, spring_1, spring_2, spring_3, is_first_time, percentile, 17_group, blended, is_ml_student]\n",
       "Index: []"
      ]
     },
     "execution_count": 16,
     "metadata": {},
     "output_type": "execute_result"
    }
   ],
   "source": [
    "data.loc[(data['17_group'] != 0) & (data['18_group'] != 0)]"
   ]
  },
  {
   "cell_type": "markdown",
   "id": "a5806e60",
   "metadata": {
    "papermill": {
     "duration": 0.060853,
     "end_time": "2021-10-28T19:51:24.465453",
     "exception": false,
     "start_time": "2021-10-28T19:51:24.404600",
     "status": "completed"
    },
    "tags": []
   },
   "source": [
    "Методом исключения найдите курсы, которые предлагались только студентам 18-го года и только студентам 17-го года."
   ]
  },
  {
   "cell_type": "code",
   "execution_count": 17,
   "id": "036c1a7c",
   "metadata": {
    "execution": {
     "iopub.execute_input": "2021-10-28T19:51:24.594154Z",
     "iopub.status.busy": "2021-10-28T19:51:24.593143Z",
     "iopub.status.idle": "2021-10-28T19:51:24.748308Z",
     "shell.execute_reply": "2021-10-28T19:51:24.748800Z",
     "shell.execute_reply.started": "2021-10-28T19:49:52.974869Z"
    },
    "papermill": {
     "duration": 0.220773,
     "end_time": "2021-10-28T19:51:24.748981",
     "exception": false,
     "start_time": "2021-10-28T19:51:24.528208",
     "status": "completed"
    },
    "tags": []
   },
   "outputs": [
    {
     "data": {
      "text/html": [
       "<div>\n",
       "<style scoped>\n",
       "    .dataframe tbody tr th:only-of-type {\n",
       "        vertical-align: middle;\n",
       "    }\n",
       "\n",
       "    .dataframe tbody tr th {\n",
       "        vertical-align: top;\n",
       "    }\n",
       "\n",
       "    .dataframe thead tr th {\n",
       "        text-align: left;\n",
       "    }\n",
       "\n",
       "    .dataframe thead tr:last-of-type th {\n",
       "        text-align: right;\n",
       "    }\n",
       "</style>\n",
       "<table border=\"1\" class=\"dataframe\">\n",
       "  <thead>\n",
       "    <tr>\n",
       "      <th></th>\n",
       "      <th colspan=\"8\" halign=\"left\">rating</th>\n",
       "      <th colspan=\"2\" halign=\"left\">18_group</th>\n",
       "      <th>...</th>\n",
       "      <th colspan=\"2\" halign=\"left\">17_group</th>\n",
       "      <th colspan=\"8\" halign=\"left\">is_ml_student</th>\n",
       "    </tr>\n",
       "    <tr>\n",
       "      <th></th>\n",
       "      <th>count</th>\n",
       "      <th>mean</th>\n",
       "      <th>std</th>\n",
       "      <th>min</th>\n",
       "      <th>25%</th>\n",
       "      <th>50%</th>\n",
       "      <th>75%</th>\n",
       "      <th>max</th>\n",
       "      <th>count</th>\n",
       "      <th>mean</th>\n",
       "      <th>...</th>\n",
       "      <th>75%</th>\n",
       "      <th>max</th>\n",
       "      <th>count</th>\n",
       "      <th>mean</th>\n",
       "      <th>std</th>\n",
       "      <th>min</th>\n",
       "      <th>25%</th>\n",
       "      <th>50%</th>\n",
       "      <th>75%</th>\n",
       "      <th>max</th>\n",
       "    </tr>\n",
       "    <tr>\n",
       "      <th>fall_2</th>\n",
       "      <th></th>\n",
       "      <th></th>\n",
       "      <th></th>\n",
       "      <th></th>\n",
       "      <th></th>\n",
       "      <th></th>\n",
       "      <th></th>\n",
       "      <th></th>\n",
       "      <th></th>\n",
       "      <th></th>\n",
       "      <th></th>\n",
       "      <th></th>\n",
       "      <th></th>\n",
       "      <th></th>\n",
       "      <th></th>\n",
       "      <th></th>\n",
       "      <th></th>\n",
       "      <th></th>\n",
       "      <th></th>\n",
       "      <th></th>\n",
       "      <th></th>\n",
       "    </tr>\n",
       "  </thead>\n",
       "  <tbody>\n",
       "    <tr>\n",
       "      <th>Statistical Learning Theory</th>\n",
       "      <td>18.0</td>\n",
       "      <td>664.500000</td>\n",
       "      <td>69.458621</td>\n",
       "      <td>543.0</td>\n",
       "      <td>600.00</td>\n",
       "      <td>671.0</td>\n",
       "      <td>705.75</td>\n",
       "      <td>784.0</td>\n",
       "      <td>18.0</td>\n",
       "      <td>183.000000</td>\n",
       "      <td>...</td>\n",
       "      <td>0.0</td>\n",
       "      <td>0.0</td>\n",
       "      <td>18.0</td>\n",
       "      <td>0.555556</td>\n",
       "      <td>0.511310</td>\n",
       "      <td>0.0</td>\n",
       "      <td>0.0</td>\n",
       "      <td>1.0</td>\n",
       "      <td>1.0</td>\n",
       "      <td>1.0</td>\n",
       "    </tr>\n",
       "    <tr>\n",
       "      <th>Безопасность компьютерных систем</th>\n",
       "      <td>33.0</td>\n",
       "      <td>621.909091</td>\n",
       "      <td>67.087333</td>\n",
       "      <td>525.0</td>\n",
       "      <td>572.00</td>\n",
       "      <td>614.0</td>\n",
       "      <td>656.00</td>\n",
       "      <td>764.0</td>\n",
       "      <td>33.0</td>\n",
       "      <td>184.151515</td>\n",
       "      <td>...</td>\n",
       "      <td>0.0</td>\n",
       "      <td>0.0</td>\n",
       "      <td>33.0</td>\n",
       "      <td>0.151515</td>\n",
       "      <td>0.364110</td>\n",
       "      <td>0.0</td>\n",
       "      <td>0.0</td>\n",
       "      <td>0.0</td>\n",
       "      <td>0.0</td>\n",
       "      <td>1.0</td>\n",
       "    </tr>\n",
       "    <tr>\n",
       "      <th>Высокопроизводительные вычисления</th>\n",
       "      <td>30.0</td>\n",
       "      <td>632.733333</td>\n",
       "      <td>64.163011</td>\n",
       "      <td>522.0</td>\n",
       "      <td>586.75</td>\n",
       "      <td>636.0</td>\n",
       "      <td>680.00</td>\n",
       "      <td>740.0</td>\n",
       "      <td>30.0</td>\n",
       "      <td>184.000000</td>\n",
       "      <td>...</td>\n",
       "      <td>0.0</td>\n",
       "      <td>0.0</td>\n",
       "      <td>30.0</td>\n",
       "      <td>0.133333</td>\n",
       "      <td>0.345746</td>\n",
       "      <td>0.0</td>\n",
       "      <td>0.0</td>\n",
       "      <td>0.0</td>\n",
       "      <td>0.0</td>\n",
       "      <td>1.0</td>\n",
       "    </tr>\n",
       "    <tr>\n",
       "      <th>Матричные вычисления</th>\n",
       "      <td>26.0</td>\n",
       "      <td>653.615385</td>\n",
       "      <td>57.654888</td>\n",
       "      <td>533.0</td>\n",
       "      <td>622.50</td>\n",
       "      <td>658.5</td>\n",
       "      <td>686.50</td>\n",
       "      <td>756.0</td>\n",
       "      <td>26.0</td>\n",
       "      <td>184.807692</td>\n",
       "      <td>...</td>\n",
       "      <td>0.0</td>\n",
       "      <td>0.0</td>\n",
       "      <td>26.0</td>\n",
       "      <td>0.500000</td>\n",
       "      <td>0.509902</td>\n",
       "      <td>0.0</td>\n",
       "      <td>0.0</td>\n",
       "      <td>0.5</td>\n",
       "      <td>1.0</td>\n",
       "      <td>1.0</td>\n",
       "    </tr>\n",
       "    <tr>\n",
       "      <th>Моделирование временных рядов</th>\n",
       "      <td>13.0</td>\n",
       "      <td>647.000000</td>\n",
       "      <td>75.140979</td>\n",
       "      <td>534.0</td>\n",
       "      <td>561.00</td>\n",
       "      <td>678.0</td>\n",
       "      <td>706.00</td>\n",
       "      <td>755.0</td>\n",
       "      <td>13.0</td>\n",
       "      <td>184.384615</td>\n",
       "      <td>...</td>\n",
       "      <td>0.0</td>\n",
       "      <td>0.0</td>\n",
       "      <td>13.0</td>\n",
       "      <td>0.230769</td>\n",
       "      <td>0.438529</td>\n",
       "      <td>0.0</td>\n",
       "      <td>0.0</td>\n",
       "      <td>0.0</td>\n",
       "      <td>0.0</td>\n",
       "      <td>1.0</td>\n",
       "    </tr>\n",
       "    <tr>\n",
       "      <th>Принятие решений в условиях риска и неопределённости</th>\n",
       "      <td>7.0</td>\n",
       "      <td>621.285714</td>\n",
       "      <td>40.111155</td>\n",
       "      <td>577.0</td>\n",
       "      <td>591.00</td>\n",
       "      <td>610.0</td>\n",
       "      <td>650.00</td>\n",
       "      <td>680.0</td>\n",
       "      <td>7.0</td>\n",
       "      <td>185.857143</td>\n",
       "      <td>...</td>\n",
       "      <td>0.0</td>\n",
       "      <td>0.0</td>\n",
       "      <td>7.0</td>\n",
       "      <td>0.142857</td>\n",
       "      <td>0.377964</td>\n",
       "      <td>0.0</td>\n",
       "      <td>0.0</td>\n",
       "      <td>0.0</td>\n",
       "      <td>0.0</td>\n",
       "      <td>1.0</td>\n",
       "    </tr>\n",
       "    <tr>\n",
       "      <th>Сбор и обработка данных с помощью краудсорсинга</th>\n",
       "      <td>32.0</td>\n",
       "      <td>628.687500</td>\n",
       "      <td>65.373585</td>\n",
       "      <td>519.0</td>\n",
       "      <td>582.75</td>\n",
       "      <td>629.5</td>\n",
       "      <td>673.50</td>\n",
       "      <td>761.0</td>\n",
       "      <td>32.0</td>\n",
       "      <td>185.125000</td>\n",
       "      <td>...</td>\n",
       "      <td>0.0</td>\n",
       "      <td>0.0</td>\n",
       "      <td>32.0</td>\n",
       "      <td>0.312500</td>\n",
       "      <td>0.470929</td>\n",
       "      <td>0.0</td>\n",
       "      <td>0.0</td>\n",
       "      <td>0.0</td>\n",
       "      <td>1.0</td>\n",
       "      <td>1.0</td>\n",
       "    </tr>\n",
       "    <tr>\n",
       "      <th>Теория баз данных</th>\n",
       "      <td>18.0</td>\n",
       "      <td>635.388889</td>\n",
       "      <td>76.941642</td>\n",
       "      <td>518.0</td>\n",
       "      <td>568.50</td>\n",
       "      <td>615.5</td>\n",
       "      <td>706.75</td>\n",
       "      <td>748.0</td>\n",
       "      <td>18.0</td>\n",
       "      <td>184.055556</td>\n",
       "      <td>...</td>\n",
       "      <td>0.0</td>\n",
       "      <td>0.0</td>\n",
       "      <td>18.0</td>\n",
       "      <td>0.111111</td>\n",
       "      <td>0.323381</td>\n",
       "      <td>0.0</td>\n",
       "      <td>0.0</td>\n",
       "      <td>0.0</td>\n",
       "      <td>0.0</td>\n",
       "      <td>1.0</td>\n",
       "    </tr>\n",
       "    <tr>\n",
       "      <th>Язык SQL</th>\n",
       "      <td>36.0</td>\n",
       "      <td>617.944444</td>\n",
       "      <td>74.933092</td>\n",
       "      <td>495.0</td>\n",
       "      <td>548.50</td>\n",
       "      <td>618.5</td>\n",
       "      <td>672.50</td>\n",
       "      <td>760.0</td>\n",
       "      <td>36.0</td>\n",
       "      <td>185.027778</td>\n",
       "      <td>...</td>\n",
       "      <td>0.0</td>\n",
       "      <td>0.0</td>\n",
       "      <td>36.0</td>\n",
       "      <td>0.222222</td>\n",
       "      <td>0.421637</td>\n",
       "      <td>0.0</td>\n",
       "      <td>0.0</td>\n",
       "      <td>0.0</td>\n",
       "      <td>0.0</td>\n",
       "      <td>1.0</td>\n",
       "    </tr>\n",
       "  </tbody>\n",
       "</table>\n",
       "<p>9 rows × 48 columns</p>\n",
       "</div>"
      ],
      "text/plain": [
       "                                                   rating              \\\n",
       "                                                    count        mean   \n",
       "fall_2                                                                  \n",
       "Statistical Learning Theory                          18.0  664.500000   \n",
       "Безопасность компьютерных систем                     33.0  621.909091   \n",
       "Высокопроизводительные вычисления                    30.0  632.733333   \n",
       "Матричные вычисления                                 26.0  653.615385   \n",
       "Моделирование временных рядов                        13.0  647.000000   \n",
       "Принятие решений в условиях риска и неопределён...    7.0  621.285714   \n",
       "Сбор и обработка данных с помощью краудсорсинга      32.0  628.687500   \n",
       "Теория баз данных                                    18.0  635.388889   \n",
       "Язык SQL                                             36.0  617.944444   \n",
       "\n",
       "                                                                              \\\n",
       "                                                          std    min     25%   \n",
       "fall_2                                                                         \n",
       "Statistical Learning Theory                         69.458621  543.0  600.00   \n",
       "Безопасность компьютерных систем                    67.087333  525.0  572.00   \n",
       "Высокопроизводительные вычисления                   64.163011  522.0  586.75   \n",
       "Матричные вычисления                                57.654888  533.0  622.50   \n",
       "Моделирование временных рядов                       75.140979  534.0  561.00   \n",
       "Принятие решений в условиях риска и неопределён...  40.111155  577.0  591.00   \n",
       "Сбор и обработка данных с помощью краудсорсинга     65.373585  519.0  582.75   \n",
       "Теория баз данных                                   76.941642  518.0  568.50   \n",
       "Язык SQL                                            74.933092  495.0  548.50   \n",
       "\n",
       "                                                                          \\\n",
       "                                                      50%     75%    max   \n",
       "fall_2                                                                     \n",
       "Statistical Learning Theory                         671.0  705.75  784.0   \n",
       "Безопасность компьютерных систем                    614.0  656.00  764.0   \n",
       "Высокопроизводительные вычисления                   636.0  680.00  740.0   \n",
       "Матричные вычисления                                658.5  686.50  756.0   \n",
       "Моделирование временных рядов                       678.0  706.00  755.0   \n",
       "Принятие решений в условиях риска и неопределён...  610.0  650.00  680.0   \n",
       "Сбор и обработка данных с помощью краудсорсинга     629.5  673.50  761.0   \n",
       "Теория баз данных                                   615.5  706.75  748.0   \n",
       "Язык SQL                                            618.5  672.50  760.0   \n",
       "\n",
       "                                                   18_group              ...  \\\n",
       "                                                      count        mean  ...   \n",
       "fall_2                                                                   ...   \n",
       "Statistical Learning Theory                            18.0  183.000000  ...   \n",
       "Безопасность компьютерных систем                       33.0  184.151515  ...   \n",
       "Высокопроизводительные вычисления                      30.0  184.000000  ...   \n",
       "Матричные вычисления                                   26.0  184.807692  ...   \n",
       "Моделирование временных рядов                          13.0  184.384615  ...   \n",
       "Принятие решений в условиях риска и неопределён...      7.0  185.857143  ...   \n",
       "Сбор и обработка данных с помощью краудсорсинга        32.0  185.125000  ...   \n",
       "Теория баз данных                                      18.0  184.055556  ...   \n",
       "Язык SQL                                               36.0  185.027778  ...   \n",
       "\n",
       "                                                   17_group       \\\n",
       "                                                        75%  max   \n",
       "fall_2                                                             \n",
       "Statistical Learning Theory                             0.0  0.0   \n",
       "Безопасность компьютерных систем                        0.0  0.0   \n",
       "Высокопроизводительные вычисления                       0.0  0.0   \n",
       "Матричные вычисления                                    0.0  0.0   \n",
       "Моделирование временных рядов                           0.0  0.0   \n",
       "Принятие решений в условиях риска и неопределён...      0.0  0.0   \n",
       "Сбор и обработка данных с помощью краудсорсинга         0.0  0.0   \n",
       "Теория баз данных                                       0.0  0.0   \n",
       "Язык SQL                                                0.0  0.0   \n",
       "\n",
       "                                                   is_ml_student            \\\n",
       "                                                           count      mean   \n",
       "fall_2                                                                       \n",
       "Statistical Learning Theory                                 18.0  0.555556   \n",
       "Безопасность компьютерных систем                            33.0  0.151515   \n",
       "Высокопроизводительные вычисления                           30.0  0.133333   \n",
       "Матричные вычисления                                        26.0  0.500000   \n",
       "Моделирование временных рядов                               13.0  0.230769   \n",
       "Принятие решений в условиях риска и неопределён...           7.0  0.142857   \n",
       "Сбор и обработка данных с помощью краудсорсинга             32.0  0.312500   \n",
       "Теория баз данных                                           18.0  0.111111   \n",
       "Язык SQL                                                    36.0  0.222222   \n",
       "\n",
       "                                                                             \\\n",
       "                                                         std  min  25%  50%   \n",
       "fall_2                                                                        \n",
       "Statistical Learning Theory                         0.511310  0.0  0.0  1.0   \n",
       "Безопасность компьютерных систем                    0.364110  0.0  0.0  0.0   \n",
       "Высокопроизводительные вычисления                   0.345746  0.0  0.0  0.0   \n",
       "Матричные вычисления                                0.509902  0.0  0.0  0.5   \n",
       "Моделирование временных рядов                       0.438529  0.0  0.0  0.0   \n",
       "Принятие решений в условиях риска и неопределён...  0.377964  0.0  0.0  0.0   \n",
       "Сбор и обработка данных с помощью краудсорсинга     0.470929  0.0  0.0  0.0   \n",
       "Теория баз данных                                   0.323381  0.0  0.0  0.0   \n",
       "Язык SQL                                            0.421637  0.0  0.0  0.0   \n",
       "\n",
       "                                                              \n",
       "                                                    75%  max  \n",
       "fall_2                                                        \n",
       "Statistical Learning Theory                         1.0  1.0  \n",
       "Безопасность компьютерных систем                    0.0  1.0  \n",
       "Высокопроизводительные вычисления                   0.0  1.0  \n",
       "Матричные вычисления                                1.0  1.0  \n",
       "Моделирование временных рядов                       0.0  1.0  \n",
       "Принятие решений в условиях риска и неопределён...  0.0  1.0  \n",
       "Сбор и обработка данных с помощью краудсорсинга     1.0  1.0  \n",
       "Теория баз данных                                   0.0  1.0  \n",
       "Язык SQL                                            0.0  1.0  \n",
       "\n",
       "[9 rows x 48 columns]"
      ]
     },
     "execution_count": 17,
     "metadata": {},
     "output_type": "execute_result"
    }
   ],
   "source": [
    "data.loc[data['17_group'] == 0].groupby(['fall_2']).describe()"
   ]
  },
  {
   "cell_type": "code",
   "execution_count": 18,
   "id": "c15aef17",
   "metadata": {
    "execution": {
     "iopub.execute_input": "2021-10-28T19:51:24.878044Z",
     "iopub.status.busy": "2021-10-28T19:51:24.877039Z",
     "iopub.status.idle": "2021-10-28T19:51:25.022350Z",
     "shell.execute_reply": "2021-10-28T19:51:25.021760Z",
     "shell.execute_reply.started": "2021-10-28T19:49:56.109410Z"
    },
    "papermill": {
     "duration": 0.211579,
     "end_time": "2021-10-28T19:51:25.022510",
     "exception": false,
     "start_time": "2021-10-28T19:51:24.810931",
     "status": "completed"
    },
    "tags": []
   },
   "outputs": [
    {
     "data": {
      "text/html": [
       "<div>\n",
       "<style scoped>\n",
       "    .dataframe tbody tr th:only-of-type {\n",
       "        vertical-align: middle;\n",
       "    }\n",
       "\n",
       "    .dataframe tbody tr th {\n",
       "        vertical-align: top;\n",
       "    }\n",
       "\n",
       "    .dataframe thead tr th {\n",
       "        text-align: left;\n",
       "    }\n",
       "\n",
       "    .dataframe thead tr:last-of-type th {\n",
       "        text-align: right;\n",
       "    }\n",
       "</style>\n",
       "<table border=\"1\" class=\"dataframe\">\n",
       "  <thead>\n",
       "    <tr>\n",
       "      <th></th>\n",
       "      <th colspan=\"8\" halign=\"left\">rating</th>\n",
       "      <th colspan=\"2\" halign=\"left\">18_group</th>\n",
       "      <th>...</th>\n",
       "      <th colspan=\"2\" halign=\"left\">17_group</th>\n",
       "      <th colspan=\"8\" halign=\"left\">is_ml_student</th>\n",
       "    </tr>\n",
       "    <tr>\n",
       "      <th></th>\n",
       "      <th>count</th>\n",
       "      <th>mean</th>\n",
       "      <th>std</th>\n",
       "      <th>min</th>\n",
       "      <th>25%</th>\n",
       "      <th>50%</th>\n",
       "      <th>75%</th>\n",
       "      <th>max</th>\n",
       "      <th>count</th>\n",
       "      <th>mean</th>\n",
       "      <th>...</th>\n",
       "      <th>75%</th>\n",
       "      <th>max</th>\n",
       "      <th>count</th>\n",
       "      <th>mean</th>\n",
       "      <th>std</th>\n",
       "      <th>min</th>\n",
       "      <th>25%</th>\n",
       "      <th>50%</th>\n",
       "      <th>75%</th>\n",
       "      <th>max</th>\n",
       "    </tr>\n",
       "    <tr>\n",
       "      <th>spring_2</th>\n",
       "      <th></th>\n",
       "      <th></th>\n",
       "      <th></th>\n",
       "      <th></th>\n",
       "      <th></th>\n",
       "      <th></th>\n",
       "      <th></th>\n",
       "      <th></th>\n",
       "      <th></th>\n",
       "      <th></th>\n",
       "      <th></th>\n",
       "      <th></th>\n",
       "      <th></th>\n",
       "      <th></th>\n",
       "      <th></th>\n",
       "      <th></th>\n",
       "      <th></th>\n",
       "      <th></th>\n",
       "      <th></th>\n",
       "      <th></th>\n",
       "      <th></th>\n",
       "    </tr>\n",
       "  </thead>\n",
       "  <tbody>\n",
       "    <tr>\n",
       "      <th>Генеративные модели в машинном обучении</th>\n",
       "      <td>14.0</td>\n",
       "      <td>1177.928571</td>\n",
       "      <td>66.534507</td>\n",
       "      <td>1035.0</td>\n",
       "      <td>1148.00</td>\n",
       "      <td>1190.5</td>\n",
       "      <td>1221.25</td>\n",
       "      <td>1286.0</td>\n",
       "      <td>14.0</td>\n",
       "      <td>0.0</td>\n",
       "      <td>...</td>\n",
       "      <td>171.75</td>\n",
       "      <td>174.0</td>\n",
       "      <td>14.0</td>\n",
       "      <td>0.0</td>\n",
       "      <td>0.0</td>\n",
       "      <td>0.0</td>\n",
       "      <td>0.0</td>\n",
       "      <td>0.0</td>\n",
       "      <td>0.0</td>\n",
       "      <td>0.0</td>\n",
       "    </tr>\n",
       "    <tr>\n",
       "      <th>Компьютерное зрение</th>\n",
       "      <td>28.0</td>\n",
       "      <td>1158.035714</td>\n",
       "      <td>95.327693</td>\n",
       "      <td>964.0</td>\n",
       "      <td>1096.25</td>\n",
       "      <td>1168.0</td>\n",
       "      <td>1230.00</td>\n",
       "      <td>1325.0</td>\n",
       "      <td>28.0</td>\n",
       "      <td>0.0</td>\n",
       "      <td>...</td>\n",
       "      <td>174.00</td>\n",
       "      <td>176.0</td>\n",
       "      <td>28.0</td>\n",
       "      <td>0.0</td>\n",
       "      <td>0.0</td>\n",
       "      <td>0.0</td>\n",
       "      <td>0.0</td>\n",
       "      <td>0.0</td>\n",
       "      <td>0.0</td>\n",
       "      <td>0.0</td>\n",
       "    </tr>\n",
       "    <tr>\n",
       "      <th>Конфликты и кооперация</th>\n",
       "      <td>12.0</td>\n",
       "      <td>1114.416667</td>\n",
       "      <td>63.313733</td>\n",
       "      <td>1029.0</td>\n",
       "      <td>1070.50</td>\n",
       "      <td>1118.0</td>\n",
       "      <td>1143.50</td>\n",
       "      <td>1224.0</td>\n",
       "      <td>12.0</td>\n",
       "      <td>0.0</td>\n",
       "      <td>...</td>\n",
       "      <td>174.00</td>\n",
       "      <td>177.0</td>\n",
       "      <td>12.0</td>\n",
       "      <td>0.0</td>\n",
       "      <td>0.0</td>\n",
       "      <td>0.0</td>\n",
       "      <td>0.0</td>\n",
       "      <td>0.0</td>\n",
       "      <td>0.0</td>\n",
       "      <td>0.0</td>\n",
       "    </tr>\n",
       "    <tr>\n",
       "      <th>Методы сжатия и передачи медиаданных</th>\n",
       "      <td>35.0</td>\n",
       "      <td>1150.742857</td>\n",
       "      <td>94.735652</td>\n",
       "      <td>966.0</td>\n",
       "      <td>1086.50</td>\n",
       "      <td>1138.0</td>\n",
       "      <td>1226.00</td>\n",
       "      <td>1365.0</td>\n",
       "      <td>35.0</td>\n",
       "      <td>0.0</td>\n",
       "      <td>...</td>\n",
       "      <td>176.00</td>\n",
       "      <td>177.0</td>\n",
       "      <td>35.0</td>\n",
       "      <td>0.0</td>\n",
       "      <td>0.0</td>\n",
       "      <td>0.0</td>\n",
       "      <td>0.0</td>\n",
       "      <td>0.0</td>\n",
       "      <td>0.0</td>\n",
       "      <td>0.0</td>\n",
       "    </tr>\n",
       "    <tr>\n",
       "      <th>Обучение с подкреплением</th>\n",
       "      <td>14.0</td>\n",
       "      <td>1138.642857</td>\n",
       "      <td>89.244355</td>\n",
       "      <td>996.0</td>\n",
       "      <td>1072.00</td>\n",
       "      <td>1139.0</td>\n",
       "      <td>1195.50</td>\n",
       "      <td>1333.0</td>\n",
       "      <td>14.0</td>\n",
       "      <td>0.0</td>\n",
       "      <td>...</td>\n",
       "      <td>173.00</td>\n",
       "      <td>175.0</td>\n",
       "      <td>14.0</td>\n",
       "      <td>0.0</td>\n",
       "      <td>0.0</td>\n",
       "      <td>0.0</td>\n",
       "      <td>0.0</td>\n",
       "      <td>0.0</td>\n",
       "      <td>0.0</td>\n",
       "      <td>0.0</td>\n",
       "    </tr>\n",
       "    <tr>\n",
       "      <th>Проектирование и разработка высоконагруженных сервисов</th>\n",
       "      <td>21.0</td>\n",
       "      <td>1188.142857</td>\n",
       "      <td>97.030555</td>\n",
       "      <td>1016.0</td>\n",
       "      <td>1118.00</td>\n",
       "      <td>1191.0</td>\n",
       "      <td>1276.00</td>\n",
       "      <td>1335.0</td>\n",
       "      <td>21.0</td>\n",
       "      <td>0.0</td>\n",
       "      <td>...</td>\n",
       "      <td>175.00</td>\n",
       "      <td>176.0</td>\n",
       "      <td>21.0</td>\n",
       "      <td>0.0</td>\n",
       "      <td>0.0</td>\n",
       "      <td>0.0</td>\n",
       "      <td>0.0</td>\n",
       "      <td>0.0</td>\n",
       "      <td>0.0</td>\n",
       "      <td>0.0</td>\n",
       "    </tr>\n",
       "    <tr>\n",
       "      <th>Символьные вычисления</th>\n",
       "      <td>5.0</td>\n",
       "      <td>1131.400000</td>\n",
       "      <td>57.317537</td>\n",
       "      <td>1066.0</td>\n",
       "      <td>1100.00</td>\n",
       "      <td>1127.0</td>\n",
       "      <td>1145.00</td>\n",
       "      <td>1219.0</td>\n",
       "      <td>5.0</td>\n",
       "      <td>0.0</td>\n",
       "      <td>...</td>\n",
       "      <td>173.00</td>\n",
       "      <td>175.0</td>\n",
       "      <td>5.0</td>\n",
       "      <td>0.0</td>\n",
       "      <td>0.0</td>\n",
       "      <td>0.0</td>\n",
       "      <td>0.0</td>\n",
       "      <td>0.0</td>\n",
       "      <td>0.0</td>\n",
       "      <td>0.0</td>\n",
       "    </tr>\n",
       "    <tr>\n",
       "      <th>Численные методы</th>\n",
       "      <td>5.0</td>\n",
       "      <td>1215.000000</td>\n",
       "      <td>164.616220</td>\n",
       "      <td>1047.0</td>\n",
       "      <td>1106.00</td>\n",
       "      <td>1165.0</td>\n",
       "      <td>1300.00</td>\n",
       "      <td>1457.0</td>\n",
       "      <td>5.0</td>\n",
       "      <td>0.0</td>\n",
       "      <td>...</td>\n",
       "      <td>176.00</td>\n",
       "      <td>176.0</td>\n",
       "      <td>5.0</td>\n",
       "      <td>0.0</td>\n",
       "      <td>0.0</td>\n",
       "      <td>0.0</td>\n",
       "      <td>0.0</td>\n",
       "      <td>0.0</td>\n",
       "      <td>0.0</td>\n",
       "      <td>0.0</td>\n",
       "    </tr>\n",
       "  </tbody>\n",
       "</table>\n",
       "<p>8 rows × 48 columns</p>\n",
       "</div>"
      ],
      "text/plain": [
       "                                                   rating               \\\n",
       "                                                    count         mean   \n",
       "spring_2                                                                 \n",
       "Генеративные модели в машинном обучении              14.0  1177.928571   \n",
       "Компьютерное зрение                                  28.0  1158.035714   \n",
       "Конфликты и кооперация                               12.0  1114.416667   \n",
       "Методы сжатия и передачи медиаданных                 35.0  1150.742857   \n",
       "Обучение с подкреплением                             14.0  1138.642857   \n",
       "Проектирование и разработка высоконагруженных с...   21.0  1188.142857   \n",
       "Символьные вычисления                                 5.0  1131.400000   \n",
       "Численные методы                                      5.0  1215.000000   \n",
       "\n",
       "                                                                        \\\n",
       "                                                           std     min   \n",
       "spring_2                                                                 \n",
       "Генеративные модели в машинном обучении              66.534507  1035.0   \n",
       "Компьютерное зрение                                  95.327693   964.0   \n",
       "Конфликты и кооперация                               63.313733  1029.0   \n",
       "Методы сжатия и передачи медиаданных                 94.735652   966.0   \n",
       "Обучение с подкреплением                             89.244355   996.0   \n",
       "Проектирование и разработка высоконагруженных с...   97.030555  1016.0   \n",
       "Символьные вычисления                                57.317537  1066.0   \n",
       "Численные методы                                    164.616220  1047.0   \n",
       "\n",
       "                                                                              \\\n",
       "                                                        25%     50%      75%   \n",
       "spring_2                                                                       \n",
       "Генеративные модели в машинном обучении             1148.00  1190.5  1221.25   \n",
       "Компьютерное зрение                                 1096.25  1168.0  1230.00   \n",
       "Конфликты и кооперация                              1070.50  1118.0  1143.50   \n",
       "Методы сжатия и передачи медиаданных                1086.50  1138.0  1226.00   \n",
       "Обучение с подкреплением                            1072.00  1139.0  1195.50   \n",
       "Проектирование и разработка высоконагруженных с...  1118.00  1191.0  1276.00   \n",
       "Символьные вычисления                               1100.00  1127.0  1145.00   \n",
       "Численные методы                                    1106.00  1165.0  1300.00   \n",
       "\n",
       "                                                           18_group       ...  \\\n",
       "                                                       max    count mean  ...   \n",
       "spring_2                                                                  ...   \n",
       "Генеративные модели в машинном обучении             1286.0     14.0  0.0  ...   \n",
       "Компьютерное зрение                                 1325.0     28.0  0.0  ...   \n",
       "Конфликты и кооперация                              1224.0     12.0  0.0  ...   \n",
       "Методы сжатия и передачи медиаданных                1365.0     35.0  0.0  ...   \n",
       "Обучение с подкреплением                            1333.0     14.0  0.0  ...   \n",
       "Проектирование и разработка высоконагруженных с...  1335.0     21.0  0.0  ...   \n",
       "Символьные вычисления                               1219.0      5.0  0.0  ...   \n",
       "Численные методы                                    1457.0      5.0  0.0  ...   \n",
       "\n",
       "                                                   17_group         \\\n",
       "                                                        75%    max   \n",
       "spring_2                                                             \n",
       "Генеративные модели в машинном обучении              171.75  174.0   \n",
       "Компьютерное зрение                                  174.00  176.0   \n",
       "Конфликты и кооперация                               174.00  177.0   \n",
       "Методы сжатия и передачи медиаданных                 176.00  177.0   \n",
       "Обучение с подкреплением                             173.00  175.0   \n",
       "Проектирование и разработка высоконагруженных с...   175.00  176.0   \n",
       "Символьные вычисления                                173.00  175.0   \n",
       "Численные методы                                     176.00  176.0   \n",
       "\n",
       "                                                   is_ml_student            \\\n",
       "                                                           count mean  std   \n",
       "spring_2                                                                     \n",
       "Генеративные модели в машинном обучении                     14.0  0.0  0.0   \n",
       "Компьютерное зрение                                         28.0  0.0  0.0   \n",
       "Конфликты и кооперация                                      12.0  0.0  0.0   \n",
       "Методы сжатия и передачи медиаданных                        35.0  0.0  0.0   \n",
       "Обучение с подкреплением                                    14.0  0.0  0.0   \n",
       "Проектирование и разработка высоконагруженных с...          21.0  0.0  0.0   \n",
       "Символьные вычисления                                        5.0  0.0  0.0   \n",
       "Численные методы                                             5.0  0.0  0.0   \n",
       "\n",
       "                                                                             \n",
       "                                                    min  25%  50%  75%  max  \n",
       "spring_2                                                                     \n",
       "Генеративные модели в машинном обучении             0.0  0.0  0.0  0.0  0.0  \n",
       "Компьютерное зрение                                 0.0  0.0  0.0  0.0  0.0  \n",
       "Конфликты и кооперация                              0.0  0.0  0.0  0.0  0.0  \n",
       "Методы сжатия и передачи медиаданных                0.0  0.0  0.0  0.0  0.0  \n",
       "Обучение с подкреплением                            0.0  0.0  0.0  0.0  0.0  \n",
       "Проектирование и разработка высоконагруженных с...  0.0  0.0  0.0  0.0  0.0  \n",
       "Символьные вычисления                               0.0  0.0  0.0  0.0  0.0  \n",
       "Численные методы                                    0.0  0.0  0.0  0.0  0.0  \n",
       "\n",
       "[8 rows x 48 columns]"
      ]
     },
     "execution_count": 18,
     "metadata": {},
     "output_type": "execute_result"
    }
   ],
   "source": [
    "data.loc[data['18_group'] == 0].groupby(['spring_2']).describe()"
   ]
  },
  {
   "cell_type": "markdown",
   "id": "ae975064",
   "metadata": {
    "papermill": {
     "duration": 0.063201,
     "end_time": "2021-10-28T19:51:25.149498",
     "exception": false,
     "start_time": "2021-10-28T19:51:25.086297",
     "status": "completed"
    },
    "tags": []
   },
   "source": [
    "### Визуализации и matplotlib"
   ]
  },
  {
   "cell_type": "markdown",
   "id": "88216ce1",
   "metadata": {
    "papermill": {
     "duration": 0.065308,
     "end_time": "2021-10-28T19:51:25.278682",
     "exception": false,
     "start_time": "2021-10-28T19:51:25.213374",
     "status": "completed"
    },
    "tags": []
   },
   "source": [
    "При работе с данными часто неудобно делать какие-то выводы, если смотреть на таблицу и числа в частности, поэтому важно уметь визуализировать данные. Здесь будут описаны ключевые правила оформления графиков для **всех** домашних заданий.\n",
    "\n",
    "У matplotlib, конечно же, есть [документация](https://matplotlib.org/users/index.html) с большим количеством [примеров](https://matplotlib.org/examples/), но для начала достаточно знать про несколько основных типов графиков:\n",
    "- plot — обычный поточечный график, которым можно изображать кривые или отдельные точки;\n",
    "- hist — гистограмма, показывающая распределение некоторой величины;\n",
    "- scatter — график, показывающий взаимосвязь двух величин;\n",
    "- bar — столбцовый график, показывающий взаимосвязь количественной величины от категориальной.\n",
    "\n",
    "В этом задании вы попробуете построить один из них. Не забывайте про базовые принципы построения приличных графиков:\n",
    "- оси должны быть подписаны, причём не слишком мелко;\n",
    "- у графика должно быть название;\n",
    "- если изображено несколько графиков, то необходима поясняющая легенда;\n",
    "- все линии на графиках должны быть чётко видны (нет похожих цветов или цветов, сливающихся с фоном);\n",
    "- если отображена величина, имеющая очевидный диапазон значений (например, проценты могут быть от 0 до 100), то желательно масштабировать ось на весь диапазон значений (исключением является случай, когда вам необходимо показать малое отличие, которое незаметно в таких масштабах);\n",
    "- сетка на графике помогает оценить значения в точках на глаз, это обычно полезно, поэтому лучше ее отрисовывать;\n",
    "- если распределение на гистограмме имеет тяжёлые хвосты, лучше использовать логарифмическую шкалу."
   ]
  },
  {
   "cell_type": "code",
   "execution_count": 19,
   "id": "898dafc7",
   "metadata": {
    "execution": {
     "iopub.execute_input": "2021-10-28T19:51:25.420182Z",
     "iopub.status.busy": "2021-10-28T19:51:25.419488Z",
     "iopub.status.idle": "2021-10-28T19:51:25.421003Z",
     "shell.execute_reply": "2021-10-28T19:51:25.421546Z",
     "shell.execute_reply.started": "2021-10-28T19:50:00.289241Z"
    },
    "papermill": {
     "duration": 0.075182,
     "end_time": "2021-10-28T19:51:25.421715",
     "exception": false,
     "start_time": "2021-10-28T19:51:25.346533",
     "status": "completed"
    },
    "tags": []
   },
   "outputs": [],
   "source": [
    "%matplotlib inline\n",
    "import matplotlib.pyplot as plt"
   ]
  },
  {
   "cell_type": "markdown",
   "id": "573390fb",
   "metadata": {
    "papermill": {
     "duration": 0.064196,
     "end_time": "2021-10-28T19:51:25.551906",
     "exception": false,
     "start_time": "2021-10-28T19:51:25.487710",
     "status": "completed"
    },
    "tags": []
   },
   "source": [
    "#### 8. [0.5 балла] Постройте график средних рейтингов по дням получения ответов (bar plot)."
   ]
  },
  {
   "cell_type": "code",
   "execution_count": 20,
   "id": "f92a6512",
   "metadata": {
    "execution": {
     "iopub.execute_input": "2021-10-28T19:51:25.682883Z",
     "iopub.status.busy": "2021-10-28T19:51:25.682196Z",
     "iopub.status.idle": "2021-10-28T19:51:25.944386Z",
     "shell.execute_reply": "2021-10-28T19:51:25.943805Z",
     "shell.execute_reply.started": "2021-10-28T19:50:04.479722Z"
    },
    "papermill": {
     "duration": 0.329116,
     "end_time": "2021-10-28T19:51:25.944543",
     "exception": false,
     "start_time": "2021-10-28T19:51:25.615427",
     "status": "completed"
    },
    "tags": []
   },
   "outputs": [
    {
     "data": {
      "text/plain": [
       "[<matplotlib.lines.Line2D at 0x7fe0d2135350>]"
      ]
     },
     "execution_count": 20,
     "metadata": {},
     "output_type": "execute_result"
    },
    {
     "data": {
      "image/png": "[encoded data removed]",
      "text/plain": [
       "<Figure size 432x288 with 1 Axes>"
      ]
     },
     "metadata": {
      "needs_background": "light"
     },
     "output_type": "display_data"
    }
   ],
   "source": [
    "date = pd.to_datetime(data['timestamp'])\n",
    "days = date.dt.day_name()\n",
    "table = data.groupby(days)['rating'].describe()['mean']\n",
    "plt.plot(table)"
   ]
  },
  {
   "cell_type": "markdown",
   "id": "f02def88",
   "metadata": {
    "papermill": {
     "duration": 0.06479,
     "end_time": "2021-10-28T19:51:26.075187",
     "exception": false,
     "start_time": "2021-10-28T19:51:26.010397",
     "status": "completed"
    },
    "tags": []
   },
   "source": [
    "Сохраните график в формате pdf (так он останется векторизованным)."
   ]
  },
  {
   "cell_type": "code",
   "execution_count": 21,
   "id": "df948e95",
   "metadata": {
    "execution": {
     "iopub.execute_input": "2021-10-28T19:51:26.209717Z",
     "iopub.status.busy": "2021-10-28T19:51:26.209004Z",
     "iopub.status.idle": "2021-10-28T19:51:26.486056Z",
     "shell.execute_reply": "2021-10-28T19:51:26.486713Z",
     "shell.execute_reply.started": "2021-10-28T19:50:07.146243Z"
    },
    "papermill": {
     "duration": 0.345909,
     "end_time": "2021-10-28T19:51:26.486886",
     "exception": false,
     "start_time": "2021-10-28T19:51:26.140977",
     "status": "completed"
    },
    "tags": []
   },
   "outputs": [
    {
     "data": {
      "image/png": "[encoded data removed]",
      "text/plain": [
       "<Figure size 432x288 with 1 Axes>"
      ]
     },
     "metadata": {
      "needs_background": "light"
     },
     "output_type": "display_data"
    }
   ],
   "source": [
    "plt.plot(table)\n",
    "plt.savefig(\"graph.pdf\")"
   ]
  },
  {
   "cell_type": "markdown",
   "id": "b5f9c7f7",
   "metadata": {
    "papermill": {
     "duration": 0.065014,
     "end_time": "2021-10-28T19:51:26.617685",
     "exception": false,
     "start_time": "2021-10-28T19:51:26.552671",
     "status": "completed"
    },
    "tags": []
   },
   "source": [
    "Еще одна билиотека для визуализации: [seaborn](https://jakevdp.github.io/PythonDataScienceHandbook/04.14-visualization-with-seaborn.html). Это настройка над matplotlib, иногда удобнее и красивее делать визуализации через неё. "
   ]
  },
  {
   "cell_type": "markdown",
   "id": "d385aa18",
   "metadata": {
    "papermill": {
     "duration": 0.065309,
     "end_time": "2021-10-28T19:51:26.749306",
     "exception": false,
     "start_time": "2021-10-28T19:51:26.683997",
     "status": "completed"
    },
    "tags": []
   },
   "source": [
    "### 2. Распределение студентов по курсам."
   ]
  },
  {
   "cell_type": "markdown",
   "id": "1b757382",
   "metadata": {
    "papermill": {
     "duration": 0.06635,
     "end_time": "2021-10-28T19:51:26.882415",
     "exception": false,
     "start_time": "2021-10-28T19:51:26.816065",
     "status": "completed"
    },
    "tags": []
   },
   "source": [
    "Теперь вам нужно распределить студентов по осенним курсам по выбору, учитывая их предпочтения."
   ]
  },
  {
   "cell_type": "markdown",
   "id": "bd6eaea1",
   "metadata": {
    "papermill": {
     "duration": 0.065027,
     "end_time": "2021-10-28T19:51:27.012968",
     "exception": false,
     "start_time": "2021-10-28T19:51:26.947941",
     "status": "completed"
    },
    "tags": []
   },
   "source": [
    "Алгоритм распределения студентов по курсам:\n",
    "1. По умолчанию на каждой дисциплине по выбору у 3 и 4 курсов может учиться 1 группа (до 30 студентов). Исключения описаны ниже. На blended-дисциплинах для четверокурсников количество мест не ограничено.\n",
    "2. Проводится первая волна отбора. Для каждой дисциплины формируется список тех, кто указал её первым приоритетом (если студент должен выбрать два курса по выбору, то для него дисциплины, которые он указал первым и вторым приоритетом, рассматриваются как дисциплины первого приоритета). Если желающих больше, чем мест, то выбирается топ по перцентилю рейтинга.\n",
    "3. На дисциплинах, где остались места после первой волны, формируются списки тех, кто выбрал их вторым приоритетом, и места заполняются лучшими по перцентили рейтинга студентами. После этого проводится такая же процедура для дисциплин третьего приоритета.\n",
    "4. Если студент не попал на необходимое количество курсов по итогам трёх волн, с ним связывается учебный офис и решает вопрос в индивидуальном порядке."
   ]
  },
  {
   "cell_type": "markdown",
   "id": "d5124bea",
   "metadata": {
    "papermill": {
     "duration": 0.065409,
     "end_time": "2021-10-28T19:51:27.146444",
     "exception": false,
     "start_time": "2021-10-28T19:51:27.081035",
     "status": "completed"
    },
    "tags": []
   },
   "source": [
    "Обращаем ваше внимание на следующие детали:\n",
    "\n",
    "- По умолчанию студент выбирает один осенний и один весенний курс по выбору, а также четверокурсники выбирают один blended-курс. Студенты групп 17-го года специализаций МОП и ТИ выбирают по 2 осенних и 2 весенних курса по выбору, также студенты групп 18' специализации МИ выбирают 2 осенних курса.\n",
    "\n",
    "- Студенты специализации МОП не могут выбрать весенним курсом по выбору Машинное обучение 2.\n",
    "\n",
    "- Blended-курсы не трогайте, по ним не надо распределять, на другие курсы они никак не влияют.\n",
    "\n",
    "- Постарайтесь воздержаться от использования циклов там, где это возможно.\n",
    "\n",
    "- На выходе ожидается файл res_fall.csv с результатами распределения на осенние курсы по выбору. Файл должен быть следующего формата:\n",
    "\n",
    "    * три столбца: ID, course1, course2\n",
    "    \n",
    "    * Если студент не попал на курс, но должен был, то вместо названия курса в ячейке должна быть строка \"???\"\n",
    "    \n",
    "    * Если студент должен выбрать только один курс, то в колонке course2 для него должна стоять строка \"-\"\n",
    "    \n",
    "    * Формат csv: для сохранения воспользуйтесь df.to_csv('solution.csv', index=None)\n",
    "    \n",
    "\n",
    "Для работы вам могут понадобиться следующие данные:\n",
    "\n",
    "- Результаты опроса (вы уже использовали этот файл в первой части задания, но на всякий случай ссылка: https://www.dropbox.com/s/f4rm8sjc3v99p0m/_end_seminar.xlsx?dl=0)\n",
    "\n",
    "- Соответствие номеров групп специализациям:\n",
    "\n",
    "    * 171, 172 - МОП; 173 - ТИ; 174 — АДИС; 175, 176 — РС; 177 — АПР\n",
    "    \n",
    "    * 181, 182 - МОП; 183 - ТИ; 184 - АДИС; 185, 186 - РС; 187 - АПР; 188 - МИ \n",
    "\n",
    "- Ограничения по количеству мест на курсах по выбору:\n",
    "\n",
    "    * Осенние: везде 30 мест, кроме Statistical Learning Theory (60 мест), Высокопроизводительных вычислений (60 мест), Анализа неструктурированных данных ($\\infty$ мест)\n",
    "\n",
    "    * Весенние: везде 30 мест, кроме Обучения с подкреплением (60 мест), Анализа данных в бизнесе (60 мест).\n",
    "\n",
    "\n",
    "Кстати, убедитесь, что в данных больше нет пропусков и повторных записей."
   ]
  },
  {
   "cell_type": "markdown",
   "id": "79aeb27b",
   "metadata": {
    "papermill": {
     "duration": 0.066293,
     "end_time": "2021-10-28T19:51:27.278358",
     "exception": false,
     "start_time": "2021-10-28T19:51:27.212065",
     "status": "completed"
    },
    "tags": []
   },
   "source": [
    "#### 0. Проверка\n",
    "\n",
    "Для начала давайте убедимся, что вы успешно выполнили задания первой части и проверим ваши данные на наличие пропусков и повторов:"
   ]
  },
  {
   "cell_type": "code",
   "execution_count": 22,
   "id": "163209ef",
   "metadata": {
    "execution": {
     "iopub.execute_input": "2021-10-28T19:51:27.416047Z",
     "iopub.status.busy": "2021-10-28T19:51:27.415413Z",
     "iopub.status.idle": "2021-10-28T19:51:27.418332Z",
     "shell.execute_reply": "2021-10-28T19:51:27.418806Z",
     "shell.execute_reply.started": "2021-10-28T19:50:11.829031Z"
    },
    "papermill": {
     "duration": 0.074932,
     "end_time": "2021-10-28T19:51:27.418967",
     "exception": false,
     "start_time": "2021-10-28T19:51:27.344035",
     "status": "completed"
    },
    "tags": []
   },
   "outputs": [],
   "source": [
    "assert data.shape[0] == 347, 'В таблице остались повторы или потеряны данные'\n",
    "\n",
    "assert data.isna().sum().sum() == 0, 'В таблице остались пропуски'"
   ]
  },
  {
   "cell_type": "markdown",
   "id": "32bf2a52",
   "metadata": {
    "papermill": {
     "duration": 0.065027,
     "end_time": "2021-10-28T19:51:27.549352",
     "exception": false,
     "start_time": "2021-10-28T19:51:27.484325",
     "status": "completed"
    },
    "tags": []
   },
   "source": [
    "Если вы не получили AssertionError, то можете продолжать."
   ]
  },
  {
   "cell_type": "markdown",
   "id": "5db12110",
   "metadata": {
    "papermill": {
     "duration": 0.067775,
     "end_time": "2021-10-28T19:51:27.683845",
     "exception": false,
     "start_time": "2021-10-28T19:51:27.616070",
     "status": "completed"
    },
    "tags": []
   },
   "source": [
    "#### 1. [1 балл] Создайте новый признак, обозначающий, сколько осенних курсов должен выбрать студент\n",
    "\n",
    "В этом вам может помочь информация о специализации и группе стундента."
   ]
  },
  {
   "cell_type": "code",
   "execution_count": 23,
   "id": "a7b1bd84",
   "metadata": {
    "execution": {
     "iopub.execute_input": "2021-10-28T19:51:27.818577Z",
     "iopub.status.busy": "2021-10-28T19:51:27.817870Z",
     "iopub.status.idle": "2021-10-28T19:51:27.821652Z",
     "shell.execute_reply": "2021-10-28T19:51:27.822176Z",
     "shell.execute_reply.started": "2021-10-28T19:50:14.302008Z"
    },
    "papermill": {
     "duration": 0.072633,
     "end_time": "2021-10-28T19:51:27.822346",
     "exception": false,
     "start_time": "2021-10-28T19:51:27.749713",
     "status": "completed"
    },
    "tags": []
   },
   "outputs": [],
   "source": [
    "import numpy as np"
   ]
  },
  {
   "cell_type": "code",
   "execution_count": 24,
   "id": "77b00750",
   "metadata": {
    "execution": {
     "iopub.execute_input": "2021-10-28T19:51:27.957731Z",
     "iopub.status.busy": "2021-10-28T19:51:27.957024Z",
     "iopub.status.idle": "2021-10-28T19:51:27.963349Z",
     "shell.execute_reply": "2021-10-28T19:51:27.963869Z",
     "shell.execute_reply.started": "2021-10-28T19:50:16.515908Z"
    },
    "papermill": {
     "duration": 0.075283,
     "end_time": "2021-10-28T19:51:27.964066",
     "exception": false,
     "start_time": "2021-10-28T19:51:27.888783",
     "status": "completed"
    },
    "tags": []
   },
   "outputs": [],
   "source": [
    "data['autumn'] = np.where( (data['18_group'] == 188) | (data['17_group'] == 171) | (data['17_group'] == 172) | (data['17_group'] == 173)\n",
    "                         , 2, 1 )"
   ]
  },
  {
   "cell_type": "markdown",
   "id": "ffae4672",
   "metadata": {
    "papermill": {
     "duration": 0.067283,
     "end_time": "2021-10-28T19:51:28.098752",
     "exception": false,
     "start_time": "2021-10-28T19:51:28.031469",
     "status": "completed"
    },
    "tags": []
   },
   "source": [
    "Проверка:"
   ]
  },
  {
   "cell_type": "code",
   "execution_count": 25,
   "id": "f728969f",
   "metadata": {
    "execution": {
     "iopub.execute_input": "2021-10-28T19:51:28.233636Z",
     "iopub.status.busy": "2021-10-28T19:51:28.232897Z",
     "iopub.status.idle": "2021-10-28T19:51:28.244389Z",
     "shell.execute_reply": "2021-10-28T19:51:28.244865Z",
     "shell.execute_reply.started": "2021-10-28T19:50:21.196749Z"
    },
    "papermill": {
     "duration": 0.080384,
     "end_time": "2021-10-28T19:51:28.245096",
     "exception": false,
     "start_time": "2021-10-28T19:51:28.164712",
     "status": "completed"
    },
    "tags": []
   },
   "outputs": [],
   "source": [
    "col_name = 'autumn'\n",
    "df = data\n",
    "\n",
    "assert(df[df['id'] == '2662600c2c37e11e62f6ee0b88452f22'][col_name] == 1).all()\n",
    "assert(df[df['id'] == 'd555d2805e1d93d4f023e57dc4c8f403'][col_name] == 2).all()\n",
    "assert(df[df['id'] == '8fe79f84f36e3a5d2d6745621321302c'][col_name] == 1).all()\n",
    "assert(df[df['id'] == 'e4caca755ee0bdd711e18fb8084958b5'][col_name] == 1).all()"
   ]
  },
  {
   "cell_type": "markdown",
   "id": "e8cc8267",
   "metadata": {
    "papermill": {
     "duration": 0.065159,
     "end_time": "2021-10-28T19:51:28.377300",
     "exception": false,
     "start_time": "2021-10-28T19:51:28.312141",
     "status": "completed"
    },
    "tags": []
   },
   "source": [
    "#### 2. [2 балла] Распределите студентов в соответствии с первым приоритетом"
   ]
  },
  {
   "cell_type": "markdown",
   "id": "78f276a5",
   "metadata": {
    "papermill": {
     "duration": 0.067222,
     "end_time": "2021-10-28T19:51:28.510217",
     "exception": false,
     "start_time": "2021-10-28T19:51:28.442995",
     "status": "completed"
    },
    "tags": []
   },
   "source": [
    "****"
   ]
  },
  {
   "cell_type": "code",
   "execution_count": 26,
   "id": "fd9f57da",
   "metadata": {
    "execution": {
     "iopub.execute_input": "2021-10-28T19:51:28.648548Z",
     "iopub.status.busy": "2021-10-28T19:51:28.647818Z",
     "iopub.status.idle": "2021-10-28T19:51:28.651754Z",
     "shell.execute_reply": "2021-10-28T19:51:28.652355Z",
     "shell.execute_reply.started": "2021-10-28T19:50:25.295385Z"
    },
    "papermill": {
     "duration": 0.07474,
     "end_time": "2021-10-28T19:51:28.652542",
     "exception": false,
     "start_time": "2021-10-28T19:51:28.577802",
     "status": "completed"
    },
    "tags": []
   },
   "outputs": [],
   "source": [
    "pd.options.mode.chained_assignment = None  # default='warn'"
   ]
  },
  {
   "cell_type": "code",
   "execution_count": 27,
   "id": "88f3e1fa",
   "metadata": {
    "execution": {
     "iopub.execute_input": "2021-10-28T19:51:28.789589Z",
     "iopub.status.busy": "2021-10-28T19:51:28.788750Z",
     "iopub.status.idle": "2021-10-28T19:51:28.955743Z",
     "shell.execute_reply": "2021-10-28T19:51:28.954982Z",
     "shell.execute_reply.started": "2021-10-28T19:50:29.894664Z"
    },
    "papermill": {
     "duration": 0.236925,
     "end_time": "2021-10-28T19:51:28.955894",
     "exception": false,
     "start_time": "2021-10-28T19:51:28.718969",
     "status": "completed"
    },
    "tags": []
   },
   "outputs": [],
   "source": [
    "sort = data.sort_values(by=['fall_1', 'percentile'])\n",
    "sort2 = sort.loc[data['autumn'] == 2]\n",
    "\n",
    "courses = [ 'Statistical Learning Theory'\n",
    "          , 'Безопасность компьютерных систем'\n",
    "          , 'Высокопроизводительные вычисления'\n",
    "          , 'Матричные вычисления'\n",
    "          , 'Моделирование временных рядов'\n",
    "          , 'Принятие решений в условиях риска и неопределённости'\n",
    "          , 'Сбор и обработка данных с помощью краудсорсинга'\n",
    "          , 'Теория баз данных'\n",
    "          , 'Язык SQL' ]\n",
    "dff = []\n",
    "lst = ['id', 'fall_1', 'fall_2', 'autumn', 'index']\n",
    "\n",
    "def table(name, num):\n",
    "    t1 = sort.loc[data['fall_1'] == name]\n",
    "    t2 = sort2.loc[data['fall_2'] == name]\n",
    "    t1['index'] = 1\n",
    "    t2['index'] = 2\n",
    "    return pd.concat([t1, t2]).sort_values(by=['percentile'], ascending=False).head(num)[lst]\n",
    "\n",
    "for i in range(9):\n",
    "    if i == 0 | i == 2:\n",
    "        dff.append(table(courses[i], 60))\n",
    "    else:\n",
    "        dff.append(table(courses[i], 30))\n",
    "\n",
    "dff[0].head(10)\n",
    "\n",
    "        \n",
    "res = pd.DataFrame(columns=lst)\n",
    "\n",
    "for i in range(9):\n",
    "    res = pd.concat([res, dff[i]])\n",
    "\n",
    "res.loc[res['autumn'] == 1, 'fall_2'] = '-'\n",
    "res.loc[(res['autumn'] == 2) & (res['index'] == 1), 'fall_2'] = NaN\n",
    "res.loc[(res['autumn'] == 2) & (res['index'] == 2), 'fall_1'] = NaN\n",
    "\n",
    "res = res.groupby('id').first().reset_index().fillna(value='???')[['id', 'fall_1', 'fall_2']].rename(columns={'fall_1': 'course1', 'fall_2' : 'course2'})\n",
    "res.to_excel(\"output.xlsx\")  \n",
    "\n",
    "\n",
    "\n",
    "\n",
    "\n",
    "\n"
   ]
  },
  {
   "cell_type": "markdown",
   "id": "cea4f76b",
   "metadata": {
    "papermill": {
     "duration": 0.067532,
     "end_time": "2021-10-28T19:51:29.089677",
     "exception": false,
     "start_time": "2021-10-28T19:51:29.022145",
     "status": "completed"
    },
    "tags": []
   },
   "source": [
    "Здесь для проверки приведена таблица, в которой есть 2 дополнительные колонки:\n",
    "    \n",
    "    1) is_first_place - является ли студент лучшим по перцентили хотя бы на одном из курсов, куда он был зачислен \n",
    "    (True / NaN)\n",
    "    \n",
    "    2) is_last_place  - является ли студент худшим по перцентили хотя бы на одном из курсов, куда он был зачислен (True / NaN)"
   ]
  },
  {
   "cell_type": "code",
   "execution_count": 28,
   "id": "f5646ec0",
   "metadata": {
    "execution": {
     "iopub.execute_input": "2021-10-28T19:51:29.227586Z",
     "iopub.status.busy": "2021-10-28T19:51:29.226839Z",
     "iopub.status.idle": "2021-10-28T19:51:30.723749Z",
     "shell.execute_reply": "2021-10-28T19:51:30.724280Z"
    },
    "papermill": {
     "duration": 1.568721,
     "end_time": "2021-10-28T19:51:30.724469",
     "exception": false,
     "start_time": "2021-10-28T19:51:29.155748",
     "status": "completed"
    },
    "tags": []
   },
   "outputs": [],
   "source": [
    "!wget  -O '2_task_check.csv' -q 'https://www.dropbox.com/s/v8o2zzq3iz5gc9w/_2_task_check.csv?dl=0'\n",
    "check_df = pd.read_csv('2_task_check.csv')"
   ]
  },
  {
   "cell_type": "markdown",
   "id": "5b5964ec",
   "metadata": {
    "papermill": {
     "duration": 0.069027,
     "end_time": "2021-10-28T19:51:30.860535",
     "exception": false,
     "start_time": "2021-10-28T19:51:30.791508",
     "status": "completed"
    },
    "tags": []
   },
   "source": [
    "После распределения студентов в соответствии с первым приоритетом добавьте в свой датафрейм аналогичные признаки и запустите проверку:"
   ]
  },
  {
   "cell_type": "code",
   "execution_count": 29,
   "id": "84e3318f",
   "metadata": {
    "execution": {
     "iopub.execute_input": "2021-10-28T19:51:30.996194Z",
     "iopub.status.busy": "2021-10-28T19:51:30.995548Z",
     "iopub.status.idle": "2021-10-28T19:51:31.003894Z",
     "shell.execute_reply": "2021-10-28T19:51:31.002551Z"
    },
    "papermill": {
     "duration": 0.077042,
     "end_time": "2021-10-28T19:51:31.004195",
     "exception": true,
     "start_time": "2021-10-28T19:51:30.927153",
     "status": "failed"
    },
    "tags": []
   },
   "outputs": [
    {
     "ename": "SyntaxError",
     "evalue": "invalid syntax (9447875.py, line 1)",
     "output_type": "error",
     "traceback": [
      "\u001b[0;36m  File \u001b[0;32m\"/tmp/ipykernel_20/9447875.py\"\u001b[0;36m, line \u001b[0;32m1\u001b[0m\n\u001b[0;31m    fir_col_name =       # insert name of your new column with is_first_place as str\u001b[0m\n\u001b[0m                                                                                    ^\u001b[0m\n\u001b[0;31mSyntaxError\u001b[0m\u001b[0;31m:\u001b[0m invalid syntax\n"
     ]
    }
   ],
   "source": [
    "fir_col_name =       # insert name of your new column with is_first_place as str\n",
    "last_col_name =      # insert name of your new column with is_last_place as str\n",
    "\n",
    "\n",
    "assert((df[df[fir_col_name].isna() == False][['id']].sort_values('id').reset_index(drop=True)\n",
    "        ==\n",
    "        check_df[check_df['is_first_place'].isna() == False][['id']].sort_values('id').reset_index(drop=True)\n",
    "       ).id.values).all()\n",
    "\n",
    "\n",
    "assert((df[df[last_col_name].isna() == False][['id']].sort_values('id').reset_index(drop=True)\n",
    "       == \n",
    "       check_df[check_df['is_last_place'].isna() == False][['id']].sort_values('id').reset_index(drop=True)\n",
    "      ).id.values).all()"
   ]
  },
  {
   "cell_type": "markdown",
   "id": "41b65c58",
   "metadata": {
    "papermill": {
     "duration": null,
     "end_time": null,
     "exception": null,
     "start_time": null,
     "status": "pending"
    },
    "tags": []
   },
   "source": [
    "#### 3. [3 балла] Проведите все три волны отбора студентов на курсы по выбору"
   ]
  },
  {
   "cell_type": "code",
   "execution_count": null,
   "id": "85899348",
   "metadata": {
    "papermill": {
     "duration": null,
     "end_time": null,
     "exception": null,
     "start_time": null,
     "status": "pending"
    },
    "tags": []
   },
   "outputs": [],
   "source": [
    "\n"
   ]
  },
  {
   "cell_type": "markdown",
   "id": "9604dc19",
   "metadata": {
    "papermill": {
     "duration": null,
     "end_time": null,
     "exception": null,
     "start_time": null,
     "status": "pending"
    },
    "tags": []
   },
   "source": [
    "**Отправьте свой файл res_fall.csv в контест (https://contest.yandex.ru/contest/19782/problems/A/) и прикрепите/укажите ниже ваш никнейм и ссылку на успешную посылку.**"
   ]
  },
  {
   "cell_type": "markdown",
   "id": "2c8fbe4a",
   "metadata": {
    "papermill": {
     "duration": null,
     "end_time": null,
     "exception": null,
     "start_time": null,
     "status": "pending"
    },
    "tags": []
   },
   "source": [
    "*Дисклеймер:*\n",
    "\n",
    "Контест выдаётся для самопроверки. Если ваша посылка получила ОК, то код, скорее всего, правильный. Но при этом оценка всё равно может быть снижена в случае обнаружения неэффективностей или ошибок в коде. Если вы сдадите в AnyTask очевидно неработающий код или ноутбук без кода, но при этом в контест будет сдан корректный файл, то это будет расцениваться как плагиат."
   ]
  },
  {
   "cell_type": "markdown",
   "id": "c5bf11aa",
   "metadata": {
    "papermill": {
     "duration": null,
     "end_time": null,
     "exception": null,
     "start_time": null,
     "status": "pending"
    },
    "tags": []
   },
   "source": [
    "На всякий случай просим вас сдать вместе с ноутбуком файл res_fall.csv в anytask"
   ]
  },
  {
   "cell_type": "markdown",
   "id": "87988823",
   "metadata": {
    "papermill": {
     "duration": null,
     "end_time": null,
     "exception": null,
     "start_time": null,
     "status": "pending"
    },
    "tags": []
   },
   "source": [
    "**Дополнительное задание. [2 бонусных балла] Распределите таким же образом студентов еще и на весенние курсы по выбору.**\n",
    "\n",
    "Если ваш код был хорошо структурирован, то это не составит проблем. \n",
    "\n",
    "Если вы выполнили это задание, сдайте среди прочего файл res_spring.csv в таком же формате, как и res_fall.csv."
   ]
  },
  {
   "cell_type": "code",
   "execution_count": null,
   "id": "18446315",
   "metadata": {
    "papermill": {
     "duration": null,
     "end_time": null,
     "exception": null,
     "start_time": null,
     "status": "pending"
    },
    "tags": []
   },
   "outputs": [],
   "source": [
    "# (￣^'￣)ゞ"
   ]
  },
  {
   "cell_type": "markdown",
   "id": "9d39ecda",
   "metadata": {
    "papermill": {
     "duration": null,
     "end_time": null,
     "exception": null,
     "start_time": null,
     "status": "pending"
    },
    "tags": []
   },
   "source": [
    "**Отправьте свой файл res_spring.csv в контест (https://contest.yandex.ru/contest/19782/problems/B/) и прикрепите/укажите ниже ваш никнейм и ссылку на успешную посылку.**"
   ]
  },
  {
   "cell_type": "markdown",
   "id": "fe3a7c72",
   "metadata": {
    "papermill": {
     "duration": null,
     "end_time": null,
     "exception": null,
     "start_time": null,
     "status": "pending"
    },
    "tags": []
   },
   "source": [
    "На всякий случай просим вас сдать вместе с ноутбуком файл res_spring.csv в anytask"
   ]
  },
  {
   "cell_type": "markdown",
   "id": "95926b31",
   "metadata": {
    "papermill": {
     "duration": null,
     "end_time": null,
     "exception": null,
     "start_time": null,
     "status": "pending"
    },
    "tags": []
   },
   "source": [
    "Вставьте картинку, описывающую ваш опыт выполнения этого задания:"
   ]
  },
  {
   "cell_type": "code",
   "execution_count": null,
   "id": "8f722414",
   "metadata": {
    "papermill": {
     "duration": null,
     "end_time": null,
     "exception": null,
     "start_time": null,
     "status": "pending"
    },
    "tags": []
   },
   "outputs": [],
   "source": []
  }
 ],
 "metadata": {
  "kernelspec": {
   "display_name": "Python 3",
   "language": "python",
   "name": "python3"
  },
  "language_info": {
   "codemirror_mode": {
    "name": "ipython",
    "version": 3
   },
   "file_extension": ".py",
   "mimetype": "text/x-python",
   "name": "python",
   "nbconvert_exporter": "python",
   "pygments_lexer": "ipython3",
   "version": "3.7.10"
  },
  "papermill": {
   "default_parameters": {},
   "duration": 44.318201,
   "end_time": "2021-10-28T19:51:31.785813",
   "environment_variables": {},
   "exception": true,
   "input_path": "__notebook__.ipynb",
   "output_path": "__notebook__.ipynb",
   "parameters": {},
   "start_time": "2021-10-28T19:50:47.467612",
   "version": "2.3.3"
  }
 },
 "nbformat": 4,
 "nbformat_minor": 5
}
